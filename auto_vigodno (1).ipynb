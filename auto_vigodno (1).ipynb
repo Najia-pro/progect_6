{
 "cells": [
  {
   "cell_type": "markdown",
   "metadata": {},
   "source": [
    "# \"Выбираем авто выгодно\""
   ]
  },
  {
   "cell_type": "markdown",
   "metadata": {},
   "source": [
    "Мухутдинова Нажия, 15-group_dspr_15.\n",
    "\n",
    "Пояснительная записка:\n",
    "\n",
    "    Обработка исходного датасета test.csv: выделение в отдельный столбец \"литража\" и \"мощности\n",
    "    в лс\", соединение бренда и марки в полное название \"модель\" авто, работа с пропусками.\n",
    "    \n",
    "    Соединение теста и своей базы. Своя база обработана отдельным ноутбуком, где была проверка \n",
    "    на пропуски, удаление дублей и удобное для соединения с тестом переименование колонок. Поэтому\n",
    "    здесь это не рассматривается.\n",
    "    \n",
    "    Работа с категориальными признаками. Удаление ненужных признаков (валюта, таможня и состояние),\n",
    "    исправление написания заглавных и строчных букв.\n",
    "    Укрупнение категориальных признаков: В признаке \"цвет\" добавлен признак \"редкий\", куда объеденены\n",
    "    редкие цвета, типа пурпурнй, золотистый, фиолетовый.\n",
    "    В признаке \"топливо\" \"газобалонное оборудование\" и \"газ\" объединены в одну группу \"газ\",\n",
    "    Объединены в один признак \"бренд\" и \"марка\"  в самом общем виде без обозначения модификаций. \n",
    "    Очень большое разнообразие, например, в марке Mercedes. В ней к бренду соединен только самый \n",
    "    ервый символ марки.\n",
    "    Тип кузова оставлен, как есть. Попытки вносить изменения приводили к ухудшению результатов.\n",
    "    \n",
    "    Классификация. Введена новый признак с делением автомбилей на \"дорогие\" бренды и \"средние\". \n",
    "    К дорогим отнесены Mercedes, Lexus, BMW, Infiniti. В ходе предварительной работы была проведена \n",
    "    кластеризация машинным методом KMeans с использованием коэффициента silhouette_score. \n",
    "    Машинная классификация определила лучшее разбиение на 2 кластера (дорогие марки и прочие более точнее). \n",
    "    Но в итоговой работе оставлена простая классификация по брендам. Она показала лучший результат \n",
    "    в сабмите.\n",
    "    \n",
    "    Количественные признаки. Год выпуска заменен на возраст (2021-\"год выпуска\"). Построены гистограммы,\n",
    "    боксплоты и проведен анализ признаков и степень их важности методом f_regression. Наиболее значимыми \n",
    "    являются объем двигателя и возраст авто. Чтобы немного скорректировать выбросы сделана следующая\n",
    "    предобработка: возраст оставлен как есть, попытки убрать выбросы ухудшали результат, пыталась заменить\n",
    "    пробег более 600000 на значение \"600000\", что ухудшило результат, оставила, как есть. Введен новый признак\n",
    "    путем перемножения \"объема в л\" на \"мощность в лс\". Этот признак оказался значимым и выглядит на\n",
    "    графике более непрерывно. Разброс в ценах огромный, но анализ крайних значений показал, что это\n",
    "    реальные цифры. Цены оставлены, как есть.\n",
    "    Все количественные признаки распределены почти нормально со смещением. Для дальнейшей нормализации\n",
    "    использовано логарифмирование этих показателей. Значение \"цены\" также логарифмируется.\n",
    "    \n",
    "    Построение моделей. Используя random_state=42 и test_size=0.20, построены следующие модели:\n",
    "        \n",
    "        Модель будстрапа с CatBoostRegressor. \n",
    "            Коэффицент MAPE = 12,53.\n",
    "            \n",
    "        Модель случайного леса с RandomForestRegressor. \n",
    "            Произведен подбор оптимальных параметров с RandomizedSearchCV.\n",
    "            Коэффициент MAPE = 12,33.\n",
    "        \n",
    "        Модель градиентного бустинга с GradientBoostingRegressor.\n",
    "            Произведен подбор оптимальных параметров с RandomizedSearchCV.\n",
    "            Коэффициэнт МАРЕ = 11,61. - Это лучшее значение. \n",
    "            \n",
    "        Модель бэггинга со случайным лесом с BaggingRegressor.\n",
    "            Коэффициент МАРЕ = 12,66.\n",
    "            \n",
    "        Модель бэггинга с градиентым бустингом с BaggingRegressor.\n",
    "            Коэффициент МАРЕ = 11,68.\n",
    "            \n",
    "        Модель стакинга в качестве первых estimators взяты модели случайного леса с\n",
    "            градиентным бустингом. Следующий estimator - модель будстрапа.\n",
    "            Коэффициэнт МАРЕ = 11,82.\n",
    "            \n",
    "    Кроме этого, введена корректировка полученных значений на инфляцию. Поскольку тестовая база собрана \n",
    "    еще в 2020, когда рынок вел себя иначе, то изучив материалы исследований рынка автомобилей в России\n",
    "    2021 года по сравнению с 2020, и учитывая существующий дефицит новых авто в салонах из-за повышенного\n",
    "    спроса взят поправочный коэффициент 1,12. Т.е. мы моделируем цены на тестовой базе на сейчас и \n",
    "    уменьшаем их с учетом случившегося роста цен.\n",
    "            \n",
    "        Итоговый результат на kaggle - 15,16129.\n",
    "  "
   ]
  },
  {
   "cell_type": "code",
   "execution_count": 1,
   "metadata": {},
   "outputs": [],
   "source": [
    "# импорт библиотек\n",
    "import numpy as np\n",
    "import pandas as pd\n",
    "\n",
    "from sklearn.model_selection import train_test_split\n",
    "from sklearn.model_selection import KFold\n",
    "from tqdm.notebook import tqdm\n",
    "from catboost import CatBoostRegressor\n",
    "from sklearn.preprocessing import LabelEncoder, OneHotEncoder, StandardScaler\n",
    "\n",
    "from datetime import timedelta, datetime, date\n",
    "from sklearn.feature_selection import f_regression\n",
    "\n",
    "import matplotlib.pyplot as plt\n",
    "import seaborn as sns\n",
    "\n",
    "from pandas import Series\n",
    "\n",
    "from sklearn.mixture import GaussianMixture\n",
    "from sklearn.cluster import KMeans\n",
    "from sklearn.metrics import silhouette_score\n",
    "\n",
    "\n",
    "from collections import Counter\n",
    "from sklearn.ensemble import RandomForestRegressor\n",
    "from sklearn.model_selection import RandomizedSearchCV\n",
    "from sklearn.ensemble import GradientBoostingRegressor\n",
    "from sklearn.ensemble import BaggingRegressor\n",
    "from sklearn.ensemble import StackingRegressor"
   ]
  },
  {
   "cell_type": "markdown",
   "metadata": {},
   "source": [
    "### собираем датасет для модели"
   ]
  },
  {
   "cell_type": "code",
   "execution_count": 2,
   "metadata": {},
   "outputs": [],
   "source": [
    "# чтение исходных данных\n",
    "test = pd.read_csv('test.csv')"
   ]
  },
  {
   "cell_type": "code",
   "execution_count": 3,
   "metadata": {},
   "outputs": [],
   "source": [
    "test = test.drop(['complectation_dict', 'car_url', 'numberOfDoors', 'modelDate', 'vehicleConfiguration', 'priceCurrency', 'description',\n",
    "                  'equipment_dict', 'image', 'model_info', 'parsing_unixtime', 'super_gen', 'vendor', 'Владение', 'Владельцы', 'name'], axis=1)"
   ]
  },
  {
   "cell_type": "code",
   "execution_count": 4,
   "metadata": {},
   "outputs": [],
   "source": [
    "# для удобства переименуем колонки\n",
    "test = test.rename({'vehicleTransmission': 'коробка', 'fuelType': 'топливо', 'mileage': 'пробег',\n",
    "                    'color': 'цвет', 'bodyType': 'кузов', 'brand': 'бренд', 'model_name': 'модель',\n",
    "                    'productionDate': 'год выпуска', 'Привод': 'привод', 'Руль': 'руль',\n",
    "                    'Таможня': 'таможня', 'Состояние': 'состояние'}, axis=1)"
   ]
  },
  {
   "cell_type": "code",
   "execution_count": 5,
   "metadata": {},
   "outputs": [],
   "source": [
    "# выделим отдельно объем двигателя в литрах и мощность в лс, ненужное удалим\n",
    "test['объем л'] = test.engineDisplacement.apply(lambda x: x.split(' ')[0])\n",
    "test['лс'] = test.enginePower.apply(lambda x: int(x.split(' ')[0]))\n",
    "test = test.drop(['engineDisplacement', 'enginePower'], axis=1)"
   ]
  },
  {
   "cell_type": "code",
   "execution_count": 6,
   "metadata": {},
   "outputs": [],
   "source": [
    "# создадим новое значение - полное название модели авто\n",
    "test['модель'] = test['бренд']+' '+test['модель']"
   ]
  },
  {
   "cell_type": "code",
   "execution_count": 7,
   "metadata": {},
   "outputs": [
    {
     "data": {
      "text/html": [
       "<div>\n",
       "<style scoped>\n",
       "    .dataframe tbody tr th:only-of-type {\n",
       "        vertical-align: middle;\n",
       "    }\n",
       "\n",
       "    .dataframe tbody tr th {\n",
       "        vertical-align: top;\n",
       "    }\n",
       "\n",
       "    .dataframe thead th {\n",
       "        text-align: right;\n",
       "    }\n",
       "</style>\n",
       "<table border=\"1\" class=\"dataframe\">\n",
       "  <thead>\n",
       "    <tr style=\"text-align: right;\">\n",
       "      <th></th>\n",
       "      <th>кузов</th>\n",
       "      <th>бренд</th>\n",
       "      <th>цвет</th>\n",
       "      <th>топливо</th>\n",
       "      <th>пробег</th>\n",
       "      <th>модель</th>\n",
       "      <th>год выпуска</th>\n",
       "      <th>sell_id</th>\n",
       "      <th>коробка</th>\n",
       "      <th>ПТС</th>\n",
       "      <th>привод</th>\n",
       "      <th>руль</th>\n",
       "      <th>состояние</th>\n",
       "      <th>таможня</th>\n",
       "      <th>объем л</th>\n",
       "      <th>лс</th>\n",
       "    </tr>\n",
       "  </thead>\n",
       "  <tbody>\n",
       "    <tr>\n",
       "      <th>0</th>\n",
       "      <td>лифтбек</td>\n",
       "      <td>SKODA</td>\n",
       "      <td>синий</td>\n",
       "      <td>бензин</td>\n",
       "      <td>74000</td>\n",
       "      <td>SKODA OCTAVIA</td>\n",
       "      <td>2014</td>\n",
       "      <td>1100575026</td>\n",
       "      <td>роботизированная</td>\n",
       "      <td>Оригинал</td>\n",
       "      <td>передний</td>\n",
       "      <td>Левый</td>\n",
       "      <td>Не требует ремонта</td>\n",
       "      <td>Растаможен</td>\n",
       "      <td>1.2</td>\n",
       "      <td>105</td>\n",
       "    </tr>\n",
       "    <tr>\n",
       "      <th>1</th>\n",
       "      <td>лифтбек</td>\n",
       "      <td>SKODA</td>\n",
       "      <td>чёрный</td>\n",
       "      <td>бензин</td>\n",
       "      <td>60563</td>\n",
       "      <td>SKODA OCTAVIA</td>\n",
       "      <td>2017</td>\n",
       "      <td>1100549428</td>\n",
       "      <td>механическая</td>\n",
       "      <td>Оригинал</td>\n",
       "      <td>передний</td>\n",
       "      <td>Левый</td>\n",
       "      <td>Не требует ремонта</td>\n",
       "      <td>Растаможен</td>\n",
       "      <td>1.6</td>\n",
       "      <td>110</td>\n",
       "    </tr>\n",
       "    <tr>\n",
       "      <th>2</th>\n",
       "      <td>лифтбек</td>\n",
       "      <td>SKODA</td>\n",
       "      <td>серый</td>\n",
       "      <td>бензин</td>\n",
       "      <td>88000</td>\n",
       "      <td>SKODA SUPERB</td>\n",
       "      <td>2014</td>\n",
       "      <td>1100658222</td>\n",
       "      <td>роботизированная</td>\n",
       "      <td>Оригинал</td>\n",
       "      <td>передний</td>\n",
       "      <td>Левый</td>\n",
       "      <td>Не требует ремонта</td>\n",
       "      <td>Растаможен</td>\n",
       "      <td>1.8</td>\n",
       "      <td>152</td>\n",
       "    </tr>\n",
       "    <tr>\n",
       "      <th>3</th>\n",
       "      <td>лифтбек</td>\n",
       "      <td>SKODA</td>\n",
       "      <td>коричневый</td>\n",
       "      <td>бензин</td>\n",
       "      <td>95000</td>\n",
       "      <td>SKODA OCTAVIA</td>\n",
       "      <td>2014</td>\n",
       "      <td>1100937408</td>\n",
       "      <td>автоматическая</td>\n",
       "      <td>Оригинал</td>\n",
       "      <td>передний</td>\n",
       "      <td>Левый</td>\n",
       "      <td>Не требует ремонта</td>\n",
       "      <td>Растаможен</td>\n",
       "      <td>1.6</td>\n",
       "      <td>110</td>\n",
       "    </tr>\n",
       "    <tr>\n",
       "      <th>4</th>\n",
       "      <td>лифтбек</td>\n",
       "      <td>SKODA</td>\n",
       "      <td>белый</td>\n",
       "      <td>бензин</td>\n",
       "      <td>58536</td>\n",
       "      <td>SKODA OCTAVIA</td>\n",
       "      <td>2012</td>\n",
       "      <td>1101037972</td>\n",
       "      <td>автоматическая</td>\n",
       "      <td>Оригинал</td>\n",
       "      <td>передний</td>\n",
       "      <td>Левый</td>\n",
       "      <td>Не требует ремонта</td>\n",
       "      <td>Растаможен</td>\n",
       "      <td>1.8</td>\n",
       "      <td>152</td>\n",
       "    </tr>\n",
       "  </tbody>\n",
       "</table>\n",
       "</div>"
      ],
      "text/plain": [
       "     кузов  бренд        цвет топливо  пробег         модель  год выпуска  \\\n",
       "0  лифтбек  SKODA       синий  бензин   74000  SKODA OCTAVIA         2014   \n",
       "1  лифтбек  SKODA      чёрный  бензин   60563  SKODA OCTAVIA         2017   \n",
       "2  лифтбек  SKODA       серый  бензин   88000   SKODA SUPERB         2014   \n",
       "3  лифтбек  SKODA  коричневый  бензин   95000  SKODA OCTAVIA         2014   \n",
       "4  лифтбек  SKODA       белый  бензин   58536  SKODA OCTAVIA         2012   \n",
       "\n",
       "      sell_id           коробка       ПТС    привод   руль  \\\n",
       "0  1100575026  роботизированная  Оригинал  передний  Левый   \n",
       "1  1100549428      механическая  Оригинал  передний  Левый   \n",
       "2  1100658222  роботизированная  Оригинал  передний  Левый   \n",
       "3  1100937408    автоматическая  Оригинал  передний  Левый   \n",
       "4  1101037972    автоматическая  Оригинал  передний  Левый   \n",
       "\n",
       "            состояние     таможня объем л   лс  \n",
       "0  Не требует ремонта  Растаможен     1.2  105  \n",
       "1  Не требует ремонта  Растаможен     1.6  110  \n",
       "2  Не требует ремонта  Растаможен     1.8  152  \n",
       "3  Не требует ремонта  Растаможен     1.6  110  \n",
       "4  Не требует ремонта  Растаможен     1.8  152  "
      ]
     },
     "execution_count": 7,
     "metadata": {},
     "output_type": "execute_result"
    }
   ],
   "source": [
    "test.head()"
   ]
  },
  {
   "cell_type": "code",
   "execution_count": 8,
   "metadata": {},
   "outputs": [],
   "source": [
    "# добавим колонки цены и обозначения теста\n",
    "test['цена'] = 0\n",
    "test['train'] = 0"
   ]
  },
  {
   "cell_type": "code",
   "execution_count": 9,
   "metadata": {},
   "outputs": [
    {
     "data": {
      "text/plain": [
       "кузов          0\n",
       "бренд          0\n",
       "цвет           0\n",
       "топливо        0\n",
       "пробег         0\n",
       "модель         0\n",
       "год выпуска    0\n",
       "sell_id        0\n",
       "коробка        0\n",
       "ПТС            1\n",
       "привод         0\n",
       "руль           0\n",
       "состояние      0\n",
       "таможня        0\n",
       "объем л        0\n",
       "лс             0\n",
       "цена           0\n",
       "train          0\n",
       "dtype: int64"
      ]
     },
     "execution_count": 9,
     "metadata": {},
     "output_type": "execute_result"
    }
   ],
   "source": [
    "# проверим на пропуски\n",
    "test.isnull().sum()"
   ]
  },
  {
   "cell_type": "code",
   "execution_count": 10,
   "metadata": {},
   "outputs": [
    {
     "data": {
      "text/plain": [
       "Counter({'Оригинал': 30098, 'Дубликат': 4587, nan: 1})"
      ]
     },
     "execution_count": 10,
     "metadata": {},
     "output_type": "execute_result"
    }
   ],
   "source": [
    "# изучим пропуск\n",
    "Counter(test['ПТС'])"
   ]
  },
  {
   "cell_type": "code",
   "execution_count": 11,
   "metadata": {},
   "outputs": [],
   "source": [
    "# заполним пропуск\n",
    "test = test.fillna('Оригинал')"
   ]
  },
  {
   "cell_type": "code",
   "execution_count": 12,
   "metadata": {},
   "outputs": [
    {
     "data": {
      "text/plain": [
       "[('BMW', 4473),\n",
       " ('VOLKSWAGEN', 4404),\n",
       " ('NISSAN', 4393),\n",
       " ('MERCEDES', 4180),\n",
       " ('TOYOTA', 3913),\n",
       " ('AUDI', 3421),\n",
       " ('MITSUBISHI', 2843),\n",
       " ('SKODA', 2741),\n",
       " ('VOLVO', 1463),\n",
       " ('HONDA', 1150),\n",
       " ('INFINITI', 871),\n",
       " ('LEXUS', 834)]"
      ]
     },
     "execution_count": 12,
     "metadata": {},
     "output_type": "execute_result"
    }
   ],
   "source": [
    "# посмотрим бренды в тестовой базе\n",
    "Counter(test['бренд']).most_common()"
   ]
  },
  {
   "cell_type": "code",
   "execution_count": 13,
   "metadata": {},
   "outputs": [
    {
     "data": {
      "text/plain": [
       "[('2.0', 7391),\n",
       " ('1.6', 4973),\n",
       " ('3.0', 3915),\n",
       " ('1.8', 3349),\n",
       " ('2.5', 2477),\n",
       " ('2.4', 1745),\n",
       " ('3.5', 1710),\n",
       " ('1.4', 1635),\n",
       " ('1.5', 725),\n",
       " ('1.2', 485),\n",
       " ('4.4', 447),\n",
       " ('2.8', 384),\n",
       " ('4.7', 377),\n",
       " ('1.3', 365),\n",
       " ('5.5', 361),\n",
       " ('4.0', 356),\n",
       " ('3.2', 348),\n",
       " ('4.5', 346),\n",
       " ('2.1', 271),\n",
       " ('3.7', 242),\n",
       " ('2.2', 236),\n",
       " ('4.2', 228),\n",
       " ('1.9', 221),\n",
       " ('2.3', 203),\n",
       " ('2.7', 189),\n",
       " ('3.6', 183),\n",
       " ('5.6', 170),\n",
       " ('5.0', 158),\n",
       " ('5.7', 135),\n",
       " ('2.9', 131),\n",
       " ('4.6', 108),\n",
       " ('3.1', 88),\n",
       " ('4.8', 84),\n",
       " ('1.7', 59),\n",
       " ('1.0', 57),\n",
       " ('3.8', 57),\n",
       " ('2.6', 55),\n",
       " ('', 55),\n",
       " ('6.0', 53),\n",
       " ('0.7', 53),\n",
       " ('3.3', 44),\n",
       " ('3.4', 36),\n",
       " ('4.1', 35),\n",
       " ('4.3', 32),\n",
       " ('5.4', 31),\n",
       " ('6.2', 28),\n",
       " ('5.9', 12),\n",
       " ('5.2', 12),\n",
       " ('6.3', 8),\n",
       " ('5.8', 7),\n",
       " ('6.6', 6),\n",
       " ('1.1', 4),\n",
       " ('4.9', 4),\n",
       " ('3.9', 1),\n",
       " ('5.3', 1)]"
      ]
     },
     "execution_count": 13,
     "metadata": {},
     "output_type": "execute_result"
    }
   ],
   "source": [
    "# проверим как получилось выделить объем двигателя\n",
    "Counter(test['объем л']).most_common()"
   ]
  },
  {
   "cell_type": "code",
   "execution_count": 14,
   "metadata": {},
   "outputs": [],
   "source": [
    "# заменяем пропуски на самый частый объем - 2 литра\n",
    "test['объем л'] = test['объем л'].replace('', '2.0')\n",
    "test['объем л'] = test['объем л'].astype('float')"
   ]
  },
  {
   "cell_type": "code",
   "execution_count": 15,
   "metadata": {},
   "outputs": [
    {
     "name": "stdout",
     "output_type": "stream",
     "text": [
      "<class 'pandas.core.frame.DataFrame'>\n",
      "RangeIndex: 34686 entries, 0 to 34685\n",
      "Data columns (total 18 columns):\n",
      " #   Column       Non-Null Count  Dtype  \n",
      "---  ------       --------------  -----  \n",
      " 0   кузов        34686 non-null  object \n",
      " 1   бренд        34686 non-null  object \n",
      " 2   цвет         34686 non-null  object \n",
      " 3   топливо      34686 non-null  object \n",
      " 4   пробег       34686 non-null  int64  \n",
      " 5   модель       34686 non-null  object \n",
      " 6   год выпуска  34686 non-null  int64  \n",
      " 7   sell_id      34686 non-null  int64  \n",
      " 8   коробка      34686 non-null  object \n",
      " 9   ПТС          34686 non-null  object \n",
      " 10  привод       34686 non-null  object \n",
      " 11  руль         34686 non-null  object \n",
      " 12  состояние    34686 non-null  object \n",
      " 13  таможня      34686 non-null  object \n",
      " 14  объем л      34686 non-null  float64\n",
      " 15  лс           34686 non-null  int64  \n",
      " 16  цена         34686 non-null  int64  \n",
      " 17  train        34686 non-null  int64  \n",
      "dtypes: float64(1), int64(6), object(11)\n",
      "memory usage: 4.8+ MB\n"
     ]
    }
   ],
   "source": [
    "# очищенная база\n",
    "test.info()"
   ]
  },
  {
   "cell_type": "code",
   "execution_count": 16,
   "metadata": {},
   "outputs": [],
   "source": [
    "# читаем подготовленный самостоятельно датасет\n",
    "df_pars = pd.read_csv('df_pars.csv')"
   ]
  },
  {
   "cell_type": "code",
   "execution_count": 17,
   "metadata": {},
   "outputs": [],
   "source": [
    "# переставим порядок колонок для объединения баз\n",
    "df_pars = df_pars[['кузов', 'бренд', 'цвет', 'топливо', 'пробег', 'модель',\n",
    "                   'год выпуска', 'sell_id', 'коробка', 'ПТС', 'привод', 'руль',\n",
    "                   'состояние', 'таможня', 'объем л', 'лс', 'цена', 'train']]"
   ]
  },
  {
   "cell_type": "code",
   "execution_count": 18,
   "metadata": {
    "scrolled": true
   },
   "outputs": [
    {
     "data": {
      "text/html": [
       "<div>\n",
       "<style scoped>\n",
       "    .dataframe tbody tr th:only-of-type {\n",
       "        vertical-align: middle;\n",
       "    }\n",
       "\n",
       "    .dataframe tbody tr th {\n",
       "        vertical-align: top;\n",
       "    }\n",
       "\n",
       "    .dataframe thead th {\n",
       "        text-align: right;\n",
       "    }\n",
       "</style>\n",
       "<table border=\"1\" class=\"dataframe\">\n",
       "  <thead>\n",
       "    <tr style=\"text-align: right;\">\n",
       "      <th></th>\n",
       "      <th>кузов</th>\n",
       "      <th>бренд</th>\n",
       "      <th>цвет</th>\n",
       "      <th>топливо</th>\n",
       "      <th>пробег</th>\n",
       "      <th>модель</th>\n",
       "      <th>год выпуска</th>\n",
       "      <th>sell_id</th>\n",
       "      <th>коробка</th>\n",
       "      <th>ПТС</th>\n",
       "      <th>привод</th>\n",
       "      <th>руль</th>\n",
       "      <th>состояние</th>\n",
       "      <th>таможня</th>\n",
       "      <th>объем л</th>\n",
       "      <th>лс</th>\n",
       "      <th>цена</th>\n",
       "      <th>train</th>\n",
       "    </tr>\n",
       "  </thead>\n",
       "  <tbody>\n",
       "    <tr>\n",
       "      <th>0</th>\n",
       "      <td>хэтчбек 5 дв.</td>\n",
       "      <td>HONDA</td>\n",
       "      <td>серый</td>\n",
       "      <td>Бензин</td>\n",
       "      <td>175000</td>\n",
       "      <td>HONDA JAZZ</td>\n",
       "      <td>2007</td>\n",
       "      <td>0</td>\n",
       "      <td>механическая</td>\n",
       "      <td>Оригинал</td>\n",
       "      <td>передний</td>\n",
       "      <td>Левый</td>\n",
       "      <td>Не требует ремонта</td>\n",
       "      <td>Растаможен</td>\n",
       "      <td>1.3</td>\n",
       "      <td>83</td>\n",
       "      <td>359000</td>\n",
       "      <td>1</td>\n",
       "    </tr>\n",
       "    <tr>\n",
       "      <th>1</th>\n",
       "      <td>внедорожник 5 дв.</td>\n",
       "      <td>HONDA</td>\n",
       "      <td>коричневый</td>\n",
       "      <td>Бензин</td>\n",
       "      <td>138500</td>\n",
       "      <td>HONDA CR</td>\n",
       "      <td>2014</td>\n",
       "      <td>0</td>\n",
       "      <td>автоматическая</td>\n",
       "      <td>Оригинал</td>\n",
       "      <td>полный</td>\n",
       "      <td>Левый</td>\n",
       "      <td>Не требует ремонта</td>\n",
       "      <td>Растаможен</td>\n",
       "      <td>2.4</td>\n",
       "      <td>190</td>\n",
       "      <td>1635000</td>\n",
       "      <td>1</td>\n",
       "    </tr>\n",
       "    <tr>\n",
       "      <th>2</th>\n",
       "      <td>минивэн</td>\n",
       "      <td>HONDA</td>\n",
       "      <td>белый</td>\n",
       "      <td>Бензин</td>\n",
       "      <td>61000</td>\n",
       "      <td>HONDA STEPWGN</td>\n",
       "      <td>2017</td>\n",
       "      <td>0</td>\n",
       "      <td>вариатор</td>\n",
       "      <td>Оригинал</td>\n",
       "      <td>передний</td>\n",
       "      <td>Правый</td>\n",
       "      <td>Не требует ремонта</td>\n",
       "      <td>Растаможен</td>\n",
       "      <td>1.5</td>\n",
       "      <td>150</td>\n",
       "      <td>1390000</td>\n",
       "      <td>1</td>\n",
       "    </tr>\n",
       "    <tr>\n",
       "      <th>3</th>\n",
       "      <td>внедорожник 5 дв.</td>\n",
       "      <td>HONDA</td>\n",
       "      <td>серый</td>\n",
       "      <td>Бензин</td>\n",
       "      <td>144000</td>\n",
       "      <td>HONDA CR</td>\n",
       "      <td>2008</td>\n",
       "      <td>0</td>\n",
       "      <td>автоматическая</td>\n",
       "      <td>Оригинал</td>\n",
       "      <td>полный</td>\n",
       "      <td>Левый</td>\n",
       "      <td>Не требует ремонта</td>\n",
       "      <td>Растаможен</td>\n",
       "      <td>2.4</td>\n",
       "      <td>166</td>\n",
       "      <td>715000</td>\n",
       "      <td>1</td>\n",
       "    </tr>\n",
       "    <tr>\n",
       "      <th>4</th>\n",
       "      <td>внедорожник 5 дв.</td>\n",
       "      <td>HONDA</td>\n",
       "      <td>чёрный</td>\n",
       "      <td>Бензин</td>\n",
       "      <td>220000</td>\n",
       "      <td>HONDA CROSSTOUR</td>\n",
       "      <td>2014</td>\n",
       "      <td>0</td>\n",
       "      <td>автоматическая</td>\n",
       "      <td>Оригинал</td>\n",
       "      <td>передний</td>\n",
       "      <td>Левый</td>\n",
       "      <td>Не требует ремонта</td>\n",
       "      <td>Растаможен</td>\n",
       "      <td>2.4</td>\n",
       "      <td>194</td>\n",
       "      <td>1329000</td>\n",
       "      <td>1</td>\n",
       "    </tr>\n",
       "  </tbody>\n",
       "</table>\n",
       "</div>"
      ],
      "text/plain": [
       "               кузов  бренд        цвет топливо  пробег           модель  \\\n",
       "0      хэтчбек 5 дв.  HONDA       серый  Бензин  175000       HONDA JAZZ   \n",
       "1  внедорожник 5 дв.  HONDA  коричневый  Бензин  138500         HONDA CR   \n",
       "2            минивэн  HONDA       белый  Бензин   61000    HONDA STEPWGN   \n",
       "3  внедорожник 5 дв.  HONDA       серый  Бензин  144000         HONDA CR   \n",
       "4  внедорожник 5 дв.  HONDA      чёрный  Бензин  220000  HONDA CROSSTOUR   \n",
       "\n",
       "   год выпуска  sell_id         коробка       ПТС    привод    руль  \\\n",
       "0         2007        0    механическая  Оригинал  передний   Левый   \n",
       "1         2014        0  автоматическая  Оригинал    полный   Левый   \n",
       "2         2017        0        вариатор  Оригинал  передний  Правый   \n",
       "3         2008        0  автоматическая  Оригинал    полный   Левый   \n",
       "4         2014        0  автоматическая  Оригинал  передний   Левый   \n",
       "\n",
       "            состояние     таможня  объем л   лс     цена  train  \n",
       "0  Не требует ремонта  Растаможен      1.3   83   359000      1  \n",
       "1  Не требует ремонта  Растаможен      2.4  190  1635000      1  \n",
       "2  Не требует ремонта  Растаможен      1.5  150  1390000      1  \n",
       "3  Не требует ремонта  Растаможен      2.4  166   715000      1  \n",
       "4  Не требует ремонта  Растаможен      2.4  194  1329000      1  "
      ]
     },
     "execution_count": 18,
     "metadata": {},
     "output_type": "execute_result"
    }
   ],
   "source": [
    "df_pars.head()"
   ]
  },
  {
   "cell_type": "code",
   "execution_count": 19,
   "metadata": {},
   "outputs": [
    {
     "data": {
      "text/html": [
       "<div>\n",
       "<style scoped>\n",
       "    .dataframe tbody tr th:only-of-type {\n",
       "        vertical-align: middle;\n",
       "    }\n",
       "\n",
       "    .dataframe tbody tr th {\n",
       "        vertical-align: top;\n",
       "    }\n",
       "\n",
       "    .dataframe thead th {\n",
       "        text-align: right;\n",
       "    }\n",
       "</style>\n",
       "<table border=\"1\" class=\"dataframe\">\n",
       "  <thead>\n",
       "    <tr style=\"text-align: right;\">\n",
       "      <th></th>\n",
       "      <th>кузов</th>\n",
       "      <th>бренд</th>\n",
       "      <th>цвет</th>\n",
       "      <th>топливо</th>\n",
       "      <th>пробег</th>\n",
       "      <th>модель</th>\n",
       "      <th>год выпуска</th>\n",
       "      <th>sell_id</th>\n",
       "      <th>коробка</th>\n",
       "      <th>ПТС</th>\n",
       "      <th>привод</th>\n",
       "      <th>руль</th>\n",
       "      <th>состояние</th>\n",
       "      <th>таможня</th>\n",
       "      <th>объем л</th>\n",
       "      <th>лс</th>\n",
       "      <th>цена</th>\n",
       "      <th>train</th>\n",
       "    </tr>\n",
       "  </thead>\n",
       "  <tbody>\n",
       "    <tr>\n",
       "      <th>0</th>\n",
       "      <td>лифтбек</td>\n",
       "      <td>SKODA</td>\n",
       "      <td>синий</td>\n",
       "      <td>бензин</td>\n",
       "      <td>74000</td>\n",
       "      <td>SKODA OCTAVIA</td>\n",
       "      <td>2014</td>\n",
       "      <td>1100575026</td>\n",
       "      <td>роботизированная</td>\n",
       "      <td>Оригинал</td>\n",
       "      <td>передний</td>\n",
       "      <td>Левый</td>\n",
       "      <td>Не требует ремонта</td>\n",
       "      <td>Растаможен</td>\n",
       "      <td>1.2</td>\n",
       "      <td>105</td>\n",
       "      <td>0</td>\n",
       "      <td>0</td>\n",
       "    </tr>\n",
       "    <tr>\n",
       "      <th>1</th>\n",
       "      <td>лифтбек</td>\n",
       "      <td>SKODA</td>\n",
       "      <td>чёрный</td>\n",
       "      <td>бензин</td>\n",
       "      <td>60563</td>\n",
       "      <td>SKODA OCTAVIA</td>\n",
       "      <td>2017</td>\n",
       "      <td>1100549428</td>\n",
       "      <td>механическая</td>\n",
       "      <td>Оригинал</td>\n",
       "      <td>передний</td>\n",
       "      <td>Левый</td>\n",
       "      <td>Не требует ремонта</td>\n",
       "      <td>Растаможен</td>\n",
       "      <td>1.6</td>\n",
       "      <td>110</td>\n",
       "      <td>0</td>\n",
       "      <td>0</td>\n",
       "    </tr>\n",
       "    <tr>\n",
       "      <th>2</th>\n",
       "      <td>лифтбек</td>\n",
       "      <td>SKODA</td>\n",
       "      <td>серый</td>\n",
       "      <td>бензин</td>\n",
       "      <td>88000</td>\n",
       "      <td>SKODA SUPERB</td>\n",
       "      <td>2014</td>\n",
       "      <td>1100658222</td>\n",
       "      <td>роботизированная</td>\n",
       "      <td>Оригинал</td>\n",
       "      <td>передний</td>\n",
       "      <td>Левый</td>\n",
       "      <td>Не требует ремонта</td>\n",
       "      <td>Растаможен</td>\n",
       "      <td>1.8</td>\n",
       "      <td>152</td>\n",
       "      <td>0</td>\n",
       "      <td>0</td>\n",
       "    </tr>\n",
       "    <tr>\n",
       "      <th>3</th>\n",
       "      <td>лифтбек</td>\n",
       "      <td>SKODA</td>\n",
       "      <td>коричневый</td>\n",
       "      <td>бензин</td>\n",
       "      <td>95000</td>\n",
       "      <td>SKODA OCTAVIA</td>\n",
       "      <td>2014</td>\n",
       "      <td>1100937408</td>\n",
       "      <td>автоматическая</td>\n",
       "      <td>Оригинал</td>\n",
       "      <td>передний</td>\n",
       "      <td>Левый</td>\n",
       "      <td>Не требует ремонта</td>\n",
       "      <td>Растаможен</td>\n",
       "      <td>1.6</td>\n",
       "      <td>110</td>\n",
       "      <td>0</td>\n",
       "      <td>0</td>\n",
       "    </tr>\n",
       "    <tr>\n",
       "      <th>4</th>\n",
       "      <td>лифтбек</td>\n",
       "      <td>SKODA</td>\n",
       "      <td>белый</td>\n",
       "      <td>бензин</td>\n",
       "      <td>58536</td>\n",
       "      <td>SKODA OCTAVIA</td>\n",
       "      <td>2012</td>\n",
       "      <td>1101037972</td>\n",
       "      <td>автоматическая</td>\n",
       "      <td>Оригинал</td>\n",
       "      <td>передний</td>\n",
       "      <td>Левый</td>\n",
       "      <td>Не требует ремонта</td>\n",
       "      <td>Растаможен</td>\n",
       "      <td>1.8</td>\n",
       "      <td>152</td>\n",
       "      <td>0</td>\n",
       "      <td>0</td>\n",
       "    </tr>\n",
       "  </tbody>\n",
       "</table>\n",
       "</div>"
      ],
      "text/plain": [
       "     кузов  бренд        цвет топливо  пробег         модель  год выпуска  \\\n",
       "0  лифтбек  SKODA       синий  бензин   74000  SKODA OCTAVIA         2014   \n",
       "1  лифтбек  SKODA      чёрный  бензин   60563  SKODA OCTAVIA         2017   \n",
       "2  лифтбек  SKODA       серый  бензин   88000   SKODA SUPERB         2014   \n",
       "3  лифтбек  SKODA  коричневый  бензин   95000  SKODA OCTAVIA         2014   \n",
       "4  лифтбек  SKODA       белый  бензин   58536  SKODA OCTAVIA         2012   \n",
       "\n",
       "      sell_id           коробка       ПТС    привод   руль  \\\n",
       "0  1100575026  роботизированная  Оригинал  передний  Левый   \n",
       "1  1100549428      механическая  Оригинал  передний  Левый   \n",
       "2  1100658222  роботизированная  Оригинал  передний  Левый   \n",
       "3  1100937408    автоматическая  Оригинал  передний  Левый   \n",
       "4  1101037972    автоматическая  Оригинал  передний  Левый   \n",
       "\n",
       "            состояние     таможня  объем л   лс  цена  train  \n",
       "0  Не требует ремонта  Растаможен      1.2  105     0      0  \n",
       "1  Не требует ремонта  Растаможен      1.6  110     0      0  \n",
       "2  Не требует ремонта  Растаможен      1.8  152     0      0  \n",
       "3  Не требует ремонта  Растаможен      1.6  110     0      0  \n",
       "4  Не требует ремонта  Растаможен      1.8  152     0      0  "
      ]
     },
     "execution_count": 19,
     "metadata": {},
     "output_type": "execute_result"
    }
   ],
   "source": [
    "test.head()"
   ]
  },
  {
   "cell_type": "code",
   "execution_count": 20,
   "metadata": {},
   "outputs": [],
   "source": [
    "# соединение test и train\n",
    "data = pd.concat([test, df_pars], ignore_index=True, axis=0)"
   ]
  },
  {
   "cell_type": "code",
   "execution_count": 21,
   "metadata": {
    "scrolled": true
   },
   "outputs": [
    {
     "data": {
      "text/html": [
       "<div>\n",
       "<style scoped>\n",
       "    .dataframe tbody tr th:only-of-type {\n",
       "        vertical-align: middle;\n",
       "    }\n",
       "\n",
       "    .dataframe tbody tr th {\n",
       "        vertical-align: top;\n",
       "    }\n",
       "\n",
       "    .dataframe thead th {\n",
       "        text-align: right;\n",
       "    }\n",
       "</style>\n",
       "<table border=\"1\" class=\"dataframe\">\n",
       "  <thead>\n",
       "    <tr style=\"text-align: right;\">\n",
       "      <th></th>\n",
       "      <th>кузов</th>\n",
       "      <th>бренд</th>\n",
       "      <th>цвет</th>\n",
       "      <th>топливо</th>\n",
       "      <th>пробег</th>\n",
       "      <th>модель</th>\n",
       "      <th>год выпуска</th>\n",
       "      <th>sell_id</th>\n",
       "      <th>коробка</th>\n",
       "      <th>ПТС</th>\n",
       "      <th>привод</th>\n",
       "      <th>руль</th>\n",
       "      <th>состояние</th>\n",
       "      <th>таможня</th>\n",
       "      <th>объем л</th>\n",
       "      <th>лс</th>\n",
       "      <th>цена</th>\n",
       "      <th>train</th>\n",
       "    </tr>\n",
       "  </thead>\n",
       "  <tbody>\n",
       "    <tr>\n",
       "      <th>0</th>\n",
       "      <td>лифтбек</td>\n",
       "      <td>SKODA</td>\n",
       "      <td>синий</td>\n",
       "      <td>бензин</td>\n",
       "      <td>74000</td>\n",
       "      <td>SKODA OCTAVIA</td>\n",
       "      <td>2014</td>\n",
       "      <td>1100575026</td>\n",
       "      <td>роботизированная</td>\n",
       "      <td>Оригинал</td>\n",
       "      <td>передний</td>\n",
       "      <td>Левый</td>\n",
       "      <td>Не требует ремонта</td>\n",
       "      <td>Растаможен</td>\n",
       "      <td>1.2</td>\n",
       "      <td>105</td>\n",
       "      <td>0</td>\n",
       "      <td>0</td>\n",
       "    </tr>\n",
       "    <tr>\n",
       "      <th>1</th>\n",
       "      <td>лифтбек</td>\n",
       "      <td>SKODA</td>\n",
       "      <td>чёрный</td>\n",
       "      <td>бензин</td>\n",
       "      <td>60563</td>\n",
       "      <td>SKODA OCTAVIA</td>\n",
       "      <td>2017</td>\n",
       "      <td>1100549428</td>\n",
       "      <td>механическая</td>\n",
       "      <td>Оригинал</td>\n",
       "      <td>передний</td>\n",
       "      <td>Левый</td>\n",
       "      <td>Не требует ремонта</td>\n",
       "      <td>Растаможен</td>\n",
       "      <td>1.6</td>\n",
       "      <td>110</td>\n",
       "      <td>0</td>\n",
       "      <td>0</td>\n",
       "    </tr>\n",
       "    <tr>\n",
       "      <th>2</th>\n",
       "      <td>лифтбек</td>\n",
       "      <td>SKODA</td>\n",
       "      <td>серый</td>\n",
       "      <td>бензин</td>\n",
       "      <td>88000</td>\n",
       "      <td>SKODA SUPERB</td>\n",
       "      <td>2014</td>\n",
       "      <td>1100658222</td>\n",
       "      <td>роботизированная</td>\n",
       "      <td>Оригинал</td>\n",
       "      <td>передний</td>\n",
       "      <td>Левый</td>\n",
       "      <td>Не требует ремонта</td>\n",
       "      <td>Растаможен</td>\n",
       "      <td>1.8</td>\n",
       "      <td>152</td>\n",
       "      <td>0</td>\n",
       "      <td>0</td>\n",
       "    </tr>\n",
       "    <tr>\n",
       "      <th>3</th>\n",
       "      <td>лифтбек</td>\n",
       "      <td>SKODA</td>\n",
       "      <td>коричневый</td>\n",
       "      <td>бензин</td>\n",
       "      <td>95000</td>\n",
       "      <td>SKODA OCTAVIA</td>\n",
       "      <td>2014</td>\n",
       "      <td>1100937408</td>\n",
       "      <td>автоматическая</td>\n",
       "      <td>Оригинал</td>\n",
       "      <td>передний</td>\n",
       "      <td>Левый</td>\n",
       "      <td>Не требует ремонта</td>\n",
       "      <td>Растаможен</td>\n",
       "      <td>1.6</td>\n",
       "      <td>110</td>\n",
       "      <td>0</td>\n",
       "      <td>0</td>\n",
       "    </tr>\n",
       "    <tr>\n",
       "      <th>4</th>\n",
       "      <td>лифтбек</td>\n",
       "      <td>SKODA</td>\n",
       "      <td>белый</td>\n",
       "      <td>бензин</td>\n",
       "      <td>58536</td>\n",
       "      <td>SKODA OCTAVIA</td>\n",
       "      <td>2012</td>\n",
       "      <td>1101037972</td>\n",
       "      <td>автоматическая</td>\n",
       "      <td>Оригинал</td>\n",
       "      <td>передний</td>\n",
       "      <td>Левый</td>\n",
       "      <td>Не требует ремонта</td>\n",
       "      <td>Растаможен</td>\n",
       "      <td>1.8</td>\n",
       "      <td>152</td>\n",
       "      <td>0</td>\n",
       "      <td>0</td>\n",
       "    </tr>\n",
       "  </tbody>\n",
       "</table>\n",
       "</div>"
      ],
      "text/plain": [
       "     кузов  бренд        цвет топливо  пробег         модель  год выпуска  \\\n",
       "0  лифтбек  SKODA       синий  бензин   74000  SKODA OCTAVIA         2014   \n",
       "1  лифтбек  SKODA      чёрный  бензин   60563  SKODA OCTAVIA         2017   \n",
       "2  лифтбек  SKODA       серый  бензин   88000   SKODA SUPERB         2014   \n",
       "3  лифтбек  SKODA  коричневый  бензин   95000  SKODA OCTAVIA         2014   \n",
       "4  лифтбек  SKODA       белый  бензин   58536  SKODA OCTAVIA         2012   \n",
       "\n",
       "      sell_id           коробка       ПТС    привод   руль  \\\n",
       "0  1100575026  роботизированная  Оригинал  передний  Левый   \n",
       "1  1100549428      механическая  Оригинал  передний  Левый   \n",
       "2  1100658222  роботизированная  Оригинал  передний  Левый   \n",
       "3  1100937408    автоматическая  Оригинал  передний  Левый   \n",
       "4  1101037972    автоматическая  Оригинал  передний  Левый   \n",
       "\n",
       "            состояние     таможня  объем л   лс  цена  train  \n",
       "0  Не требует ремонта  Растаможен      1.2  105     0      0  \n",
       "1  Не требует ремонта  Растаможен      1.6  110     0      0  \n",
       "2  Не требует ремонта  Растаможен      1.8  152     0      0  \n",
       "3  Не требует ремонта  Растаможен      1.6  110     0      0  \n",
       "4  Не требует ремонта  Растаможен      1.8  152     0      0  "
      ]
     },
     "execution_count": 21,
     "metadata": {},
     "output_type": "execute_result"
    }
   ],
   "source": [
    "data.head()"
   ]
  },
  {
   "cell_type": "markdown",
   "metadata": {},
   "source": [
    "### анализ категориальных признаков"
   ]
  },
  {
   "cell_type": "code",
   "execution_count": 22,
   "metadata": {},
   "outputs": [
    {
     "data": {
      "text/plain": [
       "[('внедорожник 5 дв.', 21233),\n",
       " ('седан', 19325),\n",
       " ('лифтбек', 3468),\n",
       " ('хэтчбек 5 дв.', 3175),\n",
       " ('универсал 5 дв.', 1888),\n",
       " ('минивэн', 1343),\n",
       " ('купе', 1180),\n",
       " ('компактвэн', 685),\n",
       " ('хэтчбек 3 дв.', 615),\n",
       " ('пикап двойная кабина', 447),\n",
       " ('купе-хардтоп', 200),\n",
       " ('внедорожник 3 дв.', 157),\n",
       " ('родстер', 125),\n",
       " ('фургон', 124),\n",
       " ('кабриолет', 121),\n",
       " ('седан-хардтоп', 14),\n",
       " ('пикап полуторная кабина', 11),\n",
       " ('микровэн', 9),\n",
       " ('седан 2 дв.', 8),\n",
       " ('пикап одинарная кабина', 6),\n",
       " ('лимузин', 6),\n",
       " ('внедорожник открытый', 4),\n",
       " ('тарга', 2),\n",
       " ('фастбек', 1)]"
      ]
     },
     "execution_count": 22,
     "metadata": {},
     "output_type": "execute_result"
    }
   ],
   "source": [
    "Counter(data['кузов']).most_common()"
   ]
  },
  {
   "cell_type": "markdown",
   "metadata": {},
   "source": [
    "    пока оставим как есть"
   ]
  },
  {
   "cell_type": "code",
   "execution_count": 23,
   "metadata": {},
   "outputs": [
    {
     "data": {
      "text/plain": [
       "[('Растаможен', 54147)]"
      ]
     },
     "execution_count": 23,
     "metadata": {},
     "output_type": "execute_result"
    }
   ],
   "source": [
    "Counter(data['таможня']).most_common()"
   ]
  },
  {
   "cell_type": "code",
   "execution_count": 24,
   "metadata": {},
   "outputs": [
    {
     "data": {
      "text/plain": [
       "[('Не требует ремонта', 54147)]"
      ]
     },
     "execution_count": 24,
     "metadata": {},
     "output_type": "execute_result"
    }
   ],
   "source": [
    "Counter(data['состояние']).most_common()"
   ]
  },
  {
   "cell_type": "code",
   "execution_count": 25,
   "metadata": {},
   "outputs": [],
   "source": [
    "# удаляем ненужные столбцы таможни и состояния, тк они не несут различий\n",
    "data = data.drop(['таможня', 'состояние', 'sell_id'], axis=1)"
   ]
  },
  {
   "cell_type": "code",
   "execution_count": 26,
   "metadata": {},
   "outputs": [
    {
     "data": {
      "text/plain": [
       "[('SKODA OCTAVIA', 2087),\n",
       " ('VOLKSWAGEN POLO', 1350),\n",
       " ('MITSUBISHI LANCER', 1244),\n",
       " ('TOYOTA CAMRY', 1228),\n",
       " ('NISSAN QASHQAI', 1130),\n",
       " ('AUDI A6', 1100),\n",
       " ('VOLKSWAGEN PASSAT', 1100),\n",
       " ('BMW X5', 1034),\n",
       " ('VOLKSWAGEN TIGUAN', 1028),\n",
       " ('BMW 5ER', 1026),\n",
       " ('MITSUBISHI OUTLANDER', 1013),\n",
       " ('AUDI A4', 940),\n",
       " ('MERCEDES E_KLASSE', 809),\n",
       " ('BMW 3ER', 752),\n",
       " ('NISSAN ALMERA', 743),\n",
       " ('VOLKSWAGEN TOUAREG', 739),\n",
       " ('TOYOTA COROLLA', 684),\n",
       " ('MITSUBISHI PAJERO', 672),\n",
       " ('NISSAN X_TRAIL', 654),\n",
       " ('SKODA RAPID', 634),\n",
       " ('VOLVO XC90', 602),\n",
       " ('VOLKSWAGEN GOLF', 592),\n",
       " ('AUDI Q7', 576),\n",
       " ('BMW X6', 568),\n",
       " ('MERCEDES S_KLASSE', 549),\n",
       " ('TOYOTA LAND', 515),\n",
       " ('TOYOTA LAND_CRUISER', 514),\n",
       " ('VOLKSWAGEN JETTA', 508),\n",
       " ('BMW X3', 507),\n",
       " ('LEXUS RX', 498),\n",
       " ('NISSAN TEANA', 488),\n",
       " ('HONDA CIVIC', 478),\n",
       " ('NISSAN X', 452),\n",
       " ('TOYOTA RAV_4', 447),\n",
       " ('BMW 5', 447),\n",
       " ('AUDI Q5', 446),\n",
       " ('NISSAN JUKE', 443),\n",
       " ('MERCEDES C_KLASSE', 428),\n",
       " ('TOYOTA RAV4', 420),\n",
       " ('VOLVO S60', 402),\n",
       " ('SKODA YETI', 401),\n",
       " ('INFINITI FX', 401),\n",
       " ('SKODA FABIA', 398),\n",
       " ('HONDA ACCORD', 393),\n",
       " ('TOYOTA LAND_CRUISER_PRADO', 387),\n",
       " ('VOLVO XC60', 374),\n",
       " ('BMW X1', 363),\n",
       " ('AUDI A3', 354),\n",
       " ('NISSAN MURANO', 354),\n",
       " ('AUDI A5', 352),\n",
       " ('SKODA SUPERB', 351),\n",
       " ('BMW 7ER', 343),\n",
       " ('MERCEDES M_KLASSE', 343),\n",
       " ('MERCEDES E', 318),\n",
       " ('BMW 3', 316),\n",
       " ('VOLVO S80', 311),\n",
       " ('MITSUBISHI ASX', 308),\n",
       " ('LEXUS LX', 301),\n",
       " ('AUDI A8', 298),\n",
       " ('AUDI Q3', 288),\n",
       " ('HONDA CR', 287),\n",
       " ('NISSAN PRIMERA', 271),\n",
       " ('NISSAN TIIDA', 269),\n",
       " ('NISSAN TERRANO', 249),\n",
       " ('MITSUBISHI GALANT', 241),\n",
       " ('AUDI 80', 235),\n",
       " ('HONDA CR_V', 235),\n",
       " ('NISSAN PATHFINDER', 233),\n",
       " ('MERCEDES GL_KLASSE', 233),\n",
       " ('NISSAN NOTE', 223),\n",
       " ('BMW 1ER', 218),\n",
       " ('VOLKSWAGEN TRANSPORTER', 209),\n",
       " ('SKODA KODIAQ', 206),\n",
       " ('VOLVO XC70', 201),\n",
       " ('VOLKSWAGEN CARAVELLE', 201),\n",
       " ('VOLKSWAGEN MULTIVAN', 199),\n",
       " ('LEXUS NX', 196),\n",
       " ('VOLVO S40', 195),\n",
       " ('MITSUBISHI PAJERO_SPORT', 186),\n",
       " ('TOYOTA AVENSIS', 183),\n",
       " ('MERCEDES C', 179),\n",
       " ('NISSAN ALMERA_CLASSIC', 176),\n",
       " ('TOYOTA HIGHLANDER', 176),\n",
       " ('MITSUBISHI L200', 174),\n",
       " ('MERCEDES S', 173),\n",
       " ('BMW X4', 165),\n",
       " ('MITSUBISHI CARISMA', 165),\n",
       " ('AUDI 100', 157),\n",
       " ('NISSAN PATROL', 155),\n",
       " ('VOLKSWAGEN PASSAT_CC', 152),\n",
       " ('AUDI A7', 146),\n",
       " ('LEXUS ES', 146),\n",
       " ('INFINITI QX70', 145),\n",
       " ('VOLKSWAGEN CADDY', 141),\n",
       " ('BMW 7', 137),\n",
       " ('MERCEDES G_KLASSE', 128),\n",
       " ('LEXUS GS', 127),\n",
       " ('BMW 6ER', 122),\n",
       " ('INFINITI QX56', 121),\n",
       " ('MERCEDES GLE', 120),\n",
       " ('NISSAN MAXIMA', 115),\n",
       " ('TOYOTA AURIS', 113),\n",
       " ('MERCEDES GLK_KLASSE', 105),\n",
       " ('INFINITI M', 101),\n",
       " ('INFINITI G35', 99),\n",
       " ('MERCEDES GLC', 99),\n",
       " ('MERCEDES M', 98),\n",
       " ('MERCEDES CLS_KLASSE', 97),\n",
       " ('LEXUS LS', 97),\n",
       " ('VOLKSWAGEN TOURAN', 96),\n",
       " ('BMW 4', 95),\n",
       " ('LEXUS GX', 94),\n",
       " ('INFINITI QX80', 93),\n",
       " ('TOYOTA HILUX', 93),\n",
       " ('INFINITI Q50', 91),\n",
       " ('MERCEDES GLE_KLASSE', 89),\n",
       " ('MERCEDES GLA', 89),\n",
       " ('LEXUS IS', 88),\n",
       " ('MERCEDES GL', 87),\n",
       " ('AUDI ALLROAD', 85),\n",
       " ('MERCEDES VIANO', 85),\n",
       " ('MERCEDES VITO', 85),\n",
       " ('MERCEDES GLC_KLASSE', 84),\n",
       " ('NISSAN MICRA', 83),\n",
       " ('MITSUBISHI ECLIPSE', 83),\n",
       " ('VOLVO V40', 81),\n",
       " ('BMW X7', 81),\n",
       " ('MERCEDES A_KLASSE', 80),\n",
       " ('MITSUBISHI COLT', 79),\n",
       " ('BMW X6_M', 78),\n",
       " ('INFINITI EX', 78),\n",
       " ('VOLKSWAGEN AMAROK', 78),\n",
       " ('BMW 1', 78),\n",
       " ('HONDA PILOT', 75),\n",
       " ('MERCEDES CLA_KLASSE', 75),\n",
       " ('MERCEDES GLS_KLASSE', 75),\n",
       " ('MERCEDES V_KLASSE', 74),\n",
       " ('MERCEDES GLS', 74),\n",
       " ('INFINITI QX60', 72),\n",
       " ('MERCEDES G_KLASSE_AMG', 69),\n",
       " ('INFINITI QX50', 67),\n",
       " ('MERCEDES GLA_CLASS', 67),\n",
       " ('AUDI TT', 66),\n",
       " ('MERCEDES S_KLASSE_AMG', 66),\n",
       " ('TOYOTA YARIS', 65),\n",
       " ('MERCEDES GLK', 65),\n",
       " ('MERCEDES B_KLASSE', 64),\n",
       " ('TOYOTA PRIUS', 64),\n",
       " ('TOYOTA MARK_II', 64),\n",
       " ('MERCEDES G', 64),\n",
       " ('VOLKSWAGEN GOLF_PLUS', 63),\n",
       " ('AUDI A1', 62),\n",
       " ('VOLKSWAGEN SHARAN', 62),\n",
       " ('VOLVO 850', 61),\n",
       " ('HONDA FIT', 59),\n",
       " ('TOYOTA CELICA', 57),\n",
       " ('NISSAN SERENA', 56),\n",
       " ('VOLVO C30', 55),\n",
       " ('BMW M5', 55),\n",
       " ('MITSUBISHI DELICA', 55),\n",
       " ('SKODA FELICIA', 54),\n",
       " ('NISSAN SENTRA', 54),\n",
       " ('MERCEDES S_CLASS_MAYBACH', 53),\n",
       " ('MITSUBISHI MONTERO', 53),\n",
       " ('NISSAN NAVARA', 51),\n",
       " ('MERCEDES GLE_KLASSE_COUPE', 51),\n",
       " ('MITSUBISHI GRANDIS', 51),\n",
       " ('AUDI Q8', 50),\n",
       " ('BMW X5_M', 50),\n",
       " ('SKODA ROOMSTER', 49),\n",
       " ('MERCEDES W124', 49),\n",
       " ('MERCEDES A', 49),\n",
       " ('TOYOTA HIACE', 48),\n",
       " ('TOYOTA VERSO', 47),\n",
       " ('MERCEDES CL_KLASSE', 46),\n",
       " ('HONDA JAZZ', 45),\n",
       " ('VOLVO 940', 45),\n",
       " ('NISSAN QASHQAI_PLUS_2', 45),\n",
       " ('VOLVO S90', 44),\n",
       " ('HONDA HR_V', 43),\n",
       " ('MERCEDES V', 43),\n",
       " ('TOYOTA FORTUNER', 42),\n",
       " ('VOLKSWAGEN BORA', 42),\n",
       " ('TOYOTA CARINA', 41),\n",
       " ('NISSAN SKYLINE', 40),\n",
       " ('NISSAN LEAF', 40),\n",
       " ('TOYOTA CROWN', 40),\n",
       " ('MERCEDES CLK_KLASSE', 39),\n",
       " ('TOYOTA TUNDRA', 38),\n",
       " ('MERCEDES CLA', 38),\n",
       " ('SKODA OCTAVIA_RS', 37),\n",
       " ('INFINITI G', 37),\n",
       " ('BMW 6', 37),\n",
       " ('INFINITI JX', 36),\n",
       " ('MERCEDES E_KLASSE_AMG', 36),\n",
       " ('MITSUBISHI MONTERO_SPORT', 36),\n",
       " ('TOYOTA ALPHARD', 35),\n",
       " ('VOLKSWAGEN TERAMONT', 35),\n",
       " ('AUDI RS', 35),\n",
       " ('VOLVO 960', 34),\n",
       " ('MERCEDES GLC_COUPE', 34),\n",
       " ('HONDA FREED', 33),\n",
       " ('VOLVO V70', 33),\n",
       " ('NISSAN SUNNY', 32),\n",
       " ('TOYOTA VITZ', 32),\n",
       " ('MERCEDES CLS', 32),\n",
       " ('AUDI A4_ALLROAD', 31),\n",
       " ('SKODA KAROQ', 30),\n",
       " ('VOLVO 740', 30),\n",
       " ('MERCEDES SL_KLASSE', 30),\n",
       " ('TOYOTA VENZA', 30),\n",
       " ('TOYOTA CALDINA', 30),\n",
       " ('BMW X2', 29),\n",
       " ('MERCEDES SLK_KLASSE', 29),\n",
       " ('TOYOTA CHASER', 29),\n",
       " ('VOLKSWAGEN SCIROCCO', 29),\n",
       " ('VOLVO XC40', 28),\n",
       " ('MERCEDES R_KLASSE', 28),\n",
       " ('VOLKSWAGEN GOLF_GTI', 28),\n",
       " ('VOLKSWAGEN BEETLE', 28),\n",
       " ('NISSAN QASHQAI+2', 28),\n",
       " ('INFINITI Q70', 27),\n",
       " ('MERCEDES B', 27),\n",
       " ('HONDA CROSSTOUR', 26),\n",
       " ('HONDA PRELUDE', 26),\n",
       " ('MERCEDES M_KLASSE_AMG', 26),\n",
       " ('VOLVO S70', 25),\n",
       " ('BMW I3', 25),\n",
       " ('NISSAN CUBE', 25),\n",
       " ('VOLKSWAGEN PHAETON', 25),\n",
       " ('MITSUBISHI SPACE_STAR', 25),\n",
       " ('HONDA LEGEND', 24),\n",
       " ('NISSAN CEFIRO', 24),\n",
       " ('TOYOTA 4RUNNER', 24),\n",
       " ('TOYOTA SIENNA', 24),\n",
       " ('TOYOTA CORONA', 24),\n",
       " ('MITSUBISHI SPACE_WAGON', 24),\n",
       " ('HONDA STEPWGN', 24),\n",
       " ('AUDI S8', 23),\n",
       " ('VOLVO V40_CC', 22),\n",
       " ('BMW Z4', 22),\n",
       " ('BMW 8ER', 22),\n",
       " ('NISSAN BLUEBIRD', 22),\n",
       " ('TOYOTA CRESTA', 22),\n",
       " ('MITSUBISHI AIRTREK', 22),\n",
       " ('VOLVO V90', 22),\n",
       " ('NISSAN MARCH', 21),\n",
       " ('TOYOTA CARINA_E', 21),\n",
       " ('MERCEDES GLE_KLASSE_COUPE_AMG', 20),\n",
       " ('MITSUBISHI PAJERO_PININ', 20),\n",
       " ('BMW 8', 20),\n",
       " ('HONDA ODYSSEY', 19),\n",
       " ('VOLVO 460', 19),\n",
       " ('BMW M3', 19),\n",
       " ('MITSUBISHI LANCER_EVOLUTION', 19),\n",
       " ('MERCEDES MAYBACH', 19),\n",
       " ('AUDI S6', 18),\n",
       " ('AUDI S5', 18),\n",
       " ('HONDA STREAM', 18),\n",
       " ('HONDA STEPWAGON', 18),\n",
       " ('MERCEDES W201', 18),\n",
       " ('TOYOTA SEQUOIA', 18),\n",
       " ('TOYOTA ESTIMA', 18),\n",
       " ('MITSUBISHI DIAMANTE', 18),\n",
       " ('HONDA HR', 18),\n",
       " ('BMW 2', 18),\n",
       " ('VOLVO C70', 17),\n",
       " ('NISSAN WINGROAD', 17),\n",
       " ('MERCEDES C_KLASSE_AMG', 17),\n",
       " ('TOYOTA HARRIER', 17),\n",
       " ('VOLKSWAGEN POINTER', 17),\n",
       " ('MITSUBISHI LEGNUM', 17),\n",
       " ('AUDI S4', 16),\n",
       " ('TOYOTA VOXY', 16),\n",
       " ('TOYOTA LITE_ACE', 16),\n",
       " ('VOLVO V50', 15),\n",
       " ('NISSAN AD', 15),\n",
       " ('NISSAN NP300', 15),\n",
       " ('MERCEDES GLE_KLASSE_AMG', 15),\n",
       " ('MERCEDES W123', 15),\n",
       " ('TOYOTA MATRIX', 15),\n",
       " ('TOYOTA TOWN_ACE', 15),\n",
       " ('TOYOTA VISTA', 15),\n",
       " ('MITSUBISHI PAJERO_IO', 15),\n",
       " ('MITSUBISHI CHARIOT', 15),\n",
       " ('NISSAN LAUREL', 14),\n",
       " ('VOLVO 240', 14),\n",
       " ('HONDA INTEGRA', 13),\n",
       " ('MERCEDES CLS_KLASSE_AMG', 13),\n",
       " ('TOYOTA SPRINTER', 13),\n",
       " ('VOLKSWAGEN VENTO', 13),\n",
       " ('AUDI RS6', 12),\n",
       " ('AUDI 200', 12),\n",
       " ('VOLVO V60', 12),\n",
       " ('MERCEDES AMG_GT', 12),\n",
       " ('TOYOTA AQUA', 12),\n",
       " ('LEXUS CT', 12),\n",
       " ('MITSUBISHI PAJERO_MINI', 12),\n",
       " ('MITSUBISHI ECLIPSE_CROSS', 12),\n",
       " ('MITSUBISHI RVR', 12),\n",
       " ('MERCEDES AMG', 12),\n",
       " ('MERCEDES SL', 12),\n",
       " ('AUDI 90', 11),\n",
       " ('HONDA SHUTTLE', 11),\n",
       " ('BMW M6', 11),\n",
       " ('BMW 2ER', 11),\n",
       " ('BMW M4', 11),\n",
       " ('MITSUBISHI SPACE', 11),\n",
       " ('MERCEDES CL', 11),\n",
       " ('HONDA ELEMENT', 10),\n",
       " ('HONDA VEZEL', 10),\n",
       " ('NISSAN ALTIMA', 10),\n",
       " ('NISSAN LIBERTY', 10),\n",
       " ('NISSAN VANETTE', 10),\n",
       " ('TOYOTA SUPRA', 10),\n",
       " ('TOYOTA ALTEZZA', 10),\n",
       " ('TOYOTA NOAH', 10),\n",
       " ('TOYOTA COROLLA_LEVIN', 10),\n",
       " ('TOYOTA PROBOX', 10),\n",
       " ('VOLKSWAGEN GOLF_R', 10),\n",
       " ('AUDI R8', 9),\n",
       " ('HONDA ELYSION', 9),\n",
       " ('NISSAN AVENIR', 9),\n",
       " ('NISSAN PRESAGE', 9),\n",
       " ('NISSAN ARMADA', 9),\n",
       " ('NISSAN CEDRIC', 9),\n",
       " ('TOYOTA HILUX_SURF', 9),\n",
       " ('TOYOTA ARISTO', 9),\n",
       " ('TOYOTA FUNCARGO', 9),\n",
       " ('LEXUS UX', 9),\n",
       " ('TOYOTA MARK', 9),\n",
       " ('HONDA S2000', 8),\n",
       " ('HONDA INSIGHT', 8),\n",
       " ('HONDA PARTNER', 8),\n",
       " ('VOLVO V90_CROSS_COUNTRY', 8),\n",
       " ('VOLVO 240_SERIES', 8),\n",
       " ('NISSAN GT_R', 8),\n",
       " ('NISSAN BLUEBIRD_SYLPHY', 8),\n",
       " ('NISSAN ALMERA_TINO', 8),\n",
       " ('TOYOTA BB', 8),\n",
       " ('TOYOTA C_HR', 8),\n",
       " ('TOYOTA IPSUM', 8),\n",
       " ('TOYOTA PASSO', 8),\n",
       " ('TOYOTA PREVIA', 8),\n",
       " ('TOYOTA CORSA', 8),\n",
       " ('MITSUBISHI ENDEAVOR', 8),\n",
       " ('MITSUBISHI L400', 8),\n",
       " ('MITSUBISHI MIRAGE', 8),\n",
       " ('HONDA N', 8),\n",
       " ('TOYOTA C', 8),\n",
       " ('HONDA RIDGELINE', 7),\n",
       " ('HONDA CIVIC_TYPE_R', 7),\n",
       " ('VOLVO 760', 7),\n",
       " ('VOLVO 440', 7),\n",
       " ('NISSAN NV200', 7),\n",
       " ('NISSAN STAGEA', 7),\n",
       " ('NISSAN ELGRAND', 7),\n",
       " ('NISSAN PULSAR', 7),\n",
       " ('NISSAN EXPERT', 7),\n",
       " ('INFINITI QX4', 7),\n",
       " ('MERCEDES CLC_KLASSE', 7),\n",
       " ('MERCEDES SL_KLASSE_AMG', 7),\n",
       " ('MERCEDES A_KLASSE_AMG', 7),\n",
       " ('TOYOTA GT86', 7),\n",
       " ('TOYOTA SOARER', 7),\n",
       " ('TOYOTA COROLLA_SPACIO', 7),\n",
       " ('MITSUBISHI DINGO', 7),\n",
       " ('MITSUBISHI DION', 7),\n",
       " ('MERCEDES GLB', 7),\n",
       " ('AUDI SQ5', 6),\n",
       " ('AUDI COUPE', 6),\n",
       " ('AUDI S3', 6),\n",
       " ('HONDA CIVIC_FERIO', 6),\n",
       " ('HONDA N_BOX', 6),\n",
       " ('HONDA SABER', 6),\n",
       " ('HONDA CROSSROAD', 6),\n",
       " ('HONDA TORNEO', 6),\n",
       " ('HONDA AIRWAVE', 6),\n",
       " ('NISSAN DAYZ', 6),\n",
       " ('NISSAN 350Z', 6),\n",
       " ('NISSAN DATSUN', 6),\n",
       " ('NISSAN TINO', 6),\n",
       " ('MERCEDES GL_KLASSE_AMG', 6),\n",
       " ('MERCEDES GLA_CLASS_AMG', 6),\n",
       " ('TOYOTA FJ_CRUISER', 6),\n",
       " ('TOYOTA MARK_X', 6),\n",
       " ('TOYOTA CAMRY_SOLARA', 6),\n",
       " ('TOYOTA PRIUS_ALPHA', 6),\n",
       " ('VOLKSWAGEN TYPE_1', 6),\n",
       " ('MITSUBISHI SPACE_RUNNER', 6),\n",
       " ('NISSAN GT', 6),\n",
       " ('MERCEDES 190', 6),\n",
       " ('AUDI S7', 5),\n",
       " ('HONDA N_WGN', 5),\n",
       " ('HONDA AVANCIER', 5),\n",
       " ('HONDA MOBILIO', 5),\n",
       " ('BMW M2', 5),\n",
       " ('NISSAN SILVIA', 5),\n",
       " ('NISSAN LARGO', 5),\n",
       " ('INFINITI Q30', 5),\n",
       " ('INFINITI Q', 5),\n",
       " ('MERCEDES GLS_KLASSE_AMG', 5),\n",
       " ('MERCEDES GLC_KLASSE_AMG', 5),\n",
       " ('MERCEDES CL_KLASSE_AMG', 5),\n",
       " ('TOYOTA ESQUIRE', 5),\n",
       " ('TOYOTA ECHO', 5),\n",
       " ('TOYOTA BLADE', 5),\n",
       " ('TOYOTA WISH', 5),\n",
       " ('TOYOTA SUCCEED', 5),\n",
       " ('TOYOTA PREMIO', 5),\n",
       " ('TOYOTA WINDOM', 5),\n",
       " ('TOYOTA CAMI', 5),\n",
       " ('TOYOTA RAUM', 5),\n",
       " ('TOYOTA DUET', 5),\n",
       " ('LEXUS RC', 5),\n",
       " ('VOLKSWAGEN EOS', 5),\n",
       " ('VOLKSWAGEN LUPO', 5),\n",
       " ('MITSUBISHI LIBERO', 5),\n",
       " ('SKODA FABIA_RS', 4),\n",
       " ('AUDI RS7', 4),\n",
       " ('AUDI RSQ3', 4),\n",
       " ('AUDI RS5', 4),\n",
       " ('AUDI A2', 4),\n",
       " ('AUDI TTS', 4),\n",
       " ('HONDA CONCERTO', 4),\n",
       " ('BMW I8', 4),\n",
       " ('BMW 2ACTIVETOURER', 4),\n",
       " ('BMW Z3', 4),\n",
       " ('NISSAN GLORIA', 4),\n",
       " ('NISSAN BASSARA', 4),\n",
       " ('INFINITI Q60', 4),\n",
       " ('INFINITI I', 4),\n",
       " ('MERCEDES SLS_AMG', 4),\n",
       " ('MERCEDES CLA_KLASSE_AMG', 4),\n",
       " ('TOYOTA ISIS', 4),\n",
       " ('TOYOTA IQ', 4),\n",
       " ('TOYOTA MR2', 4),\n",
       " ('TOYOTA COROLLA_VERSO', 4),\n",
       " ('TOYOTA REGIUS', 4),\n",
       " ('TOYOTA COROLLA_RUMION', 4),\n",
       " ('TOYOTA STARLET', 4),\n",
       " ('TOYOTA VEROSSA', 4),\n",
       " ('TOYOTA ALLEX', 4),\n",
       " ('TOYOTA AVALON', 4),\n",
       " ('TOYOTA SPRINTER_MARINO', 4),\n",
       " ('TOYOTA RACTIS', 4),\n",
       " ('LEXUS SC', 4),\n",
       " ('VOLKSWAGEN CALIFORNIA', 4),\n",
       " ('VOLKSWAGEN CORRADO', 4),\n",
       " ('MITSUBISHI SPACE_GEAR', 4),\n",
       " ('MITSUBISHI L300', 4),\n",
       " ('TOYOTA WILL', 4),\n",
       " ('TOYOTA PLATZ', 4),\n",
       " ('AUDI SQ7', 4),\n",
       " ('MITSUBISHI GTO', 4),\n",
       " ('TOYOTA ALLION', 4),\n",
       " ('HONDA ODYSSEY_NA', 3),\n",
       " ('HONDA CR_Z', 3),\n",
       " ('HONDA FR_V', 3),\n",
       " ('HONDA INSPIRE', 3),\n",
       " ('HONDA RAFAGA', 3),\n",
       " ('HONDA ORTHIA', 3),\n",
       " ('BMW X3_M', 3),\n",
       " ('BMW 2GRANDTOURER', 3),\n",
       " ('BMW 340', 3),\n",
       " ('BMW 321', 3),\n",
       " ('NISSAN PRAIRIE', 3),\n",
       " ('NISSAN JUKE_NISMO', 3),\n",
       " ('NISSAN CARAVAN_COACH', 3),\n",
       " ('NISSAN SAFARI', 3),\n",
       " ('INFINITI QX30', 3),\n",
       " ('MERCEDES W111', 3),\n",
       " ('MERCEDES W128', 3),\n",
       " ('MERCEDES AMG_GLC_COUPE', 3),\n",
       " ('MERCEDES 190_SL', 3),\n",
       " ('TOYOTA CROWN_MAJESTA', 3),\n",
       " ('TOYOTA AVENSIS_VERSO', 3),\n",
       " ('TOYOTA PICNIC', 3),\n",
       " ('TOYOTA CARINA_ED', 3),\n",
       " ('TOYOTA VANGUARD', 3),\n",
       " ('TOYOTA SIENTA', 3),\n",
       " ('TOYOTA OPA', 3),\n",
       " ('TOYOTA SPRINTER_CARIB', 3),\n",
       " ('TOYOTA TERCEL', 3),\n",
       " ('TOYOTA CYNOS', 3),\n",
       " ('TOYOTA CORONA_EXIV', 3),\n",
       " ('VOLKSWAGEN EUROVAN', 3),\n",
       " ('MITSUBISHI FTO', 3),\n",
       " ('MITSUBISHI DELICA_D_5', 3),\n",
       " ('MITSUBISHI DELICA_D2', 3),\n",
       " ('MITSUBISHI ASPIRE', 3),\n",
       " ('HONDA FR', 3),\n",
       " ('MERCEDES SLK', 3),\n",
       " ('SKODA 120', 2),\n",
       " ('AUDI RS3', 2),\n",
       " ('AUDI 920', 2),\n",
       " ('HONDA Z', 2),\n",
       " ('HONDA CR_X', 2),\n",
       " ('HONDA MOBILIO_SPIKE', 2),\n",
       " ('HONDA ZEST', 2),\n",
       " ('HONDA ASCOT', 2),\n",
       " ('HONDA LOGO', 2),\n",
       " ('HONDA ACTY', 2),\n",
       " ('HONDA DOMANI', 2),\n",
       " ('VOLVO V60_CROSS_COUNTRY', 2),\n",
       " ('VOLVO S60_CROSS_COUNTRY', 2),\n",
       " ('BMW X4_M', 2),\n",
       " ('NISSAN CLIPPER', 2),\n",
       " ('NISSAN QUEST', 2),\n",
       " ('NISSAN PRESIDENT', 2),\n",
       " ('NISSAN FUGA', 2),\n",
       " ('NISSAN DAYZ_ROOX', 2),\n",
       " ('MERCEDES CITAN', 2),\n",
       " ('TOYOTA SERA', 2),\n",
       " ('TOYOTA SPRINTER_TRUENO', 2),\n",
       " ('TOYOTA GRAND_HIACE', 2),\n",
       " ('TOYOTA CURREN', 2),\n",
       " ('TOYOTA SPADE', 2),\n",
       " ('TOYOTA PRIUSPLUS', 2),\n",
       " ('TOYOTA GAIA', 2),\n",
       " ('MITSUBISHI I_MIEV', 2),\n",
       " ('MITSUBISHI SIGMA', 2),\n",
       " ('MITSUBISHI EK_WAGON', 2),\n",
       " ('MITSUBISHI EMERAUDE', 2),\n",
       " ('HONDA JADE', 2),\n",
       " ('HONDA LIFE', 2),\n",
       " ('MITSUBISHI TOPPO', 2),\n",
       " ('TOYOTA VOLTZ', 2),\n",
       " ('TOYOTA TOWN', 2),\n",
       " ('NISSAN FAIRLADY', 2),\n",
       " (\"NISSAN R'NESSA\", 2),\n",
       " ('NISSAN LATIO', 2),\n",
       " ('MERCEDES R', 2),\n",
       " ('MERCEDES CLC', 2),\n",
       " ('MERCEDES CLK', 2),\n",
       " ('SKODA 100_SERIES', 1),\n",
       " ('SKODA FAVORIT', 1),\n",
       " ('SKODA POPULAR', 1),\n",
       " ('AUDI TT_RS', 1),\n",
       " ('AUDI RS4', 1),\n",
       " ('AUDI V8', 1),\n",
       " ('AUDI E_TRON', 1),\n",
       " ('HONDA CITY', 1),\n",
       " ('HONDA VIGOR', 1),\n",
       " ('VOLVO 140', 1),\n",
       " ('BMW M1', 1),\n",
       " ('BMW Z1', 1),\n",
       " ('BMW 02', 1),\n",
       " ('BMW E3', 1),\n",
       " ('BMW Z3M', 1),\n",
       " ('BMW 326', 1),\n",
       " ('NISSAN FAIRLADY_Z', 1),\n",
       " ('NISSAN 280ZX', 1),\n",
       " ('NISSAN 300ZX', 1),\n",
       " ('NISSAN 100NX', 1),\n",
       " ('NISSAN OTTI', 1),\n",
       " ('NISSAN PRESEA', 1),\n",
       " ('NISSAN TERRANO_REGULUS', 1),\n",
       " ('NISSAN RNESSA', 1),\n",
       " ('NISSAN 200SX', 1),\n",
       " ('NISSAN LAFESTA', 1),\n",
       " ('NISSAN KIX', 1),\n",
       " ('NISSAN URVAN', 1),\n",
       " ('MERCEDES SLC_KLASSE', 1),\n",
       " ('MERCEDES GLB_KLASSE', 1),\n",
       " ('MERCEDES X_KLASSE', 1),\n",
       " ('MERCEDES MAYBACH_GLS', 1),\n",
       " ('MERCEDES SLR_KLASSE', 1),\n",
       " ('MERCEDES VANEO', 1),\n",
       " ('MERCEDES W136', 1),\n",
       " ('MERCEDES SIMPLEX', 1),\n",
       " ('MERCEDES W114', 1),\n",
       " ('MERCEDES W186', 1),\n",
       " ('MERCEDES W188', 1),\n",
       " ('TOYOTA VERSO_S', 1),\n",
       " ('TOYOTA VELLFIRE', 1),\n",
       " ('TOYOTA MR_S', 1),\n",
       " ('TOYOTA YARIS_VERSO', 1),\n",
       " ('TOYOTA ORIGIN', 1),\n",
       " ('TOYOTA AYGO', 1),\n",
       " ('TOYOTA SCEPTER_SEDAN', 1),\n",
       " ('TOYOTA PROGRES', 1),\n",
       " ('TOYOTA SPARKY', 1),\n",
       " ('TOYOTA MASTER_ACE_SURF', 1),\n",
       " ('TOYOTA COROLLA_II', 1),\n",
       " ('TOYOTA MEGA_CRUISER', 1),\n",
       " ('TOYOTA MARK_X_ZIO', 1),\n",
       " ('TOYOTA IST', 1),\n",
       " ('TOYOTA GRANVIA', 1),\n",
       " ('TOYOTA CAVALIER', 1),\n",
       " ('TOYOTA NADIA', 1),\n",
       " ('TOYOTA PORTE', 1),\n",
       " ('LEXUS LM', 1),\n",
       " ('LEXUS HS', 1),\n",
       " ('VOLKSWAGEN ARTEON', 1),\n",
       " ('VOLKSWAGEN GOLF_R32', 1),\n",
       " ('VOLKSWAGEN POLO_GTI', 1),\n",
       " ('VOLKSWAGEN FOX', 1),\n",
       " ('VOLKSWAGEN TARO', 1),\n",
       " ('MITSUBISHI MINICAB', 1),\n",
       " ('MITSUBISHI LANCER_RALLIART', 1),\n",
       " ('MITSUBISHI MINICA', 1),\n",
       " ('VOLKSWAGEN ATLAS', 1),\n",
       " ('TOYOTA WILL_CYPHA', 1),\n",
       " ('TOYOTA PASEO', 1),\n",
       " ('HONDA CAPA', 1),\n",
       " ('HONDA MDX', 1),\n",
       " (\"HONDA THAT'S\", 1),\n",
       " ('HONDA EDIX', 1),\n",
       " ('HONDA GRACE', 1),\n",
       " ('HONDA PASSPORT', 1),\n",
       " ('AUDI CABRIOLET', 1),\n",
       " ('AUDI Q2', 1),\n",
       " ('LEXUS LC', 1),\n",
       " ('MITSUBISHI JEEP', 1),\n",
       " ('MITSUBISHI 3000', 1),\n",
       " ('VOLVO 300', 1),\n",
       " ('TOYOTA SAI', 1),\n",
       " ('TOYOTA FJ', 1),\n",
       " ('TOYOTA RUSH', 1),\n",
       " ('TOYOTA ROOMY', 1),\n",
       " ('TOYOTA PIXIS', 1),\n",
       " ('TOYOTA MASTERACE', 1),\n",
       " ('TOYOTA SOLUNA', 1),\n",
       " ('BMW M8', 1),\n",
       " ('NISSAN CREW', 1),\n",
       " ('NISSAN MOCO', 1),\n",
       " ('NISSAN TITAN', 1),\n",
       " ('MERCEDES SLS', 1),\n",
       " ('MERCEDES X', 1)]"
      ]
     },
     "execution_count": 26,
     "metadata": {},
     "output_type": "execute_result"
    }
   ],
   "source": [
    "auto = Counter(data['модель']).most_common()\n",
    "auto"
   ]
  },
  {
   "cell_type": "code",
   "execution_count": 27,
   "metadata": {},
   "outputs": [
    {
     "data": {
      "text/plain": [
       "630"
      ]
     },
     "execution_count": 27,
     "metadata": {},
     "output_type": "execute_result"
    }
   ],
   "source": [
    "# количество уникальных марок автомобилей\n",
    "len(auto)"
   ]
  },
  {
   "cell_type": "markdown",
   "metadata": {},
   "source": [
    "    у мерседесов большой модельный ряд, немного его укрупним"
   ]
  },
  {
   "cell_type": "code",
   "execution_count": 28,
   "metadata": {},
   "outputs": [],
   "source": [
    "data['модель'] = data['модель'].apply(lambda x: x.split('_')[0])"
   ]
  },
  {
   "cell_type": "code",
   "execution_count": 29,
   "metadata": {},
   "outputs": [
    {
     "data": {
      "text/plain": [
       "501"
      ]
     },
     "execution_count": 29,
     "metadata": {},
     "output_type": "execute_result"
    }
   ],
   "source": [
    "# укрупненный список уникальных автомобилей\n",
    "len(Counter(data['модель']).most_common())"
   ]
  },
  {
   "cell_type": "code",
   "execution_count": 30,
   "metadata": {},
   "outputs": [
    {
     "data": {
      "text/plain": [
       "Counter({'Оригинал': 47344, 'Дубликат': 6803})"
      ]
     },
     "execution_count": 30,
     "metadata": {},
     "output_type": "execute_result"
    }
   ],
   "source": [
    "Counter(data['ПТС'])"
   ]
  },
  {
   "cell_type": "code",
   "execution_count": 31,
   "metadata": {},
   "outputs": [
    {
     "data": {
      "text/plain": [
       "Counter({'роботизированная': 6381,\n",
       "         'механическая': 10694,\n",
       "         'автоматическая': 30272,\n",
       "         'вариатор': 6800})"
      ]
     },
     "execution_count": 31,
     "metadata": {},
     "output_type": "execute_result"
    }
   ],
   "source": [
    "Counter(data['коробка'])"
   ]
  },
  {
   "cell_type": "code",
   "execution_count": 32,
   "metadata": {},
   "outputs": [
    {
     "data": {
      "text/plain": [
       "Counter({'синий': 4928,\n",
       "         'чёрный': 16845,\n",
       "         'серый': 6530,\n",
       "         'коричневый': 2534,\n",
       "         'белый': 10620,\n",
       "         'пурпурный': 354,\n",
       "         'бежевый': 973,\n",
       "         'серебристый': 5925,\n",
       "         'красный': 2376,\n",
       "         'зелёный': 1289,\n",
       "         'жёлтый': 265,\n",
       "         'голубой': 631,\n",
       "         'оранжевый': 193,\n",
       "         'фиолетовый': 323,\n",
       "         'золотистый': 344,\n",
       "         'розовый': 17})"
      ]
     },
     "execution_count": 32,
     "metadata": {},
     "output_type": "execute_result"
    }
   ],
   "source": [
    "Counter(data['цвет'])"
   ]
  },
  {
   "cell_type": "markdown",
   "metadata": {},
   "source": [
    "    укрупним цвета: объединим цвета с числом меньше 400 в одну группу - \"редкие\""
   ]
  },
  {
   "cell_type": "code",
   "execution_count": 33,
   "metadata": {},
   "outputs": [],
   "source": [
    "sv = ['пурпурный', 'жёлтый', 'оранжевый',\n",
    "      'фиолетовый', 'золотистый', 'розовый']\n",
    "data['цвет'] = data['цвет'].apply(lambda x: 'редкий' if x in sv else x)"
   ]
  },
  {
   "cell_type": "code",
   "execution_count": 34,
   "metadata": {},
   "outputs": [
    {
     "data": {
      "text/plain": [
       "Counter({'синий': 4928,\n",
       "         'чёрный': 16845,\n",
       "         'серый': 6530,\n",
       "         'коричневый': 2534,\n",
       "         'белый': 10620,\n",
       "         'редкий': 1496,\n",
       "         'бежевый': 973,\n",
       "         'серебристый': 5925,\n",
       "         'красный': 2376,\n",
       "         'зелёный': 1289,\n",
       "         'голубой': 631})"
      ]
     },
     "execution_count": 34,
     "metadata": {},
     "output_type": "execute_result"
    }
   ],
   "source": [
    "Counter(data['цвет'])"
   ]
  },
  {
   "cell_type": "code",
   "execution_count": 35,
   "metadata": {},
   "outputs": [
    {
     "data": {
      "text/plain": [
       "Counter({'бензин': 28601,\n",
       "         'дизель': 5800,\n",
       "         'гибрид': 223,\n",
       "         'электро': 55,\n",
       "         'газ': 7,\n",
       "         'Бензин': 15440,\n",
       "         'Гибрид': 162,\n",
       "         'Бензин, газобаллонное оборудование': 108,\n",
       "         'Дизель': 3749,\n",
       "         'Газ': 2})"
      ]
     },
     "execution_count": 35,
     "metadata": {},
     "output_type": "execute_result"
    }
   ],
   "source": [
    "Counter(data['топливо'])"
   ]
  },
  {
   "cell_type": "markdown",
   "metadata": {},
   "source": [
    "    соединим газ и газобалонное оборудование"
   ]
  },
  {
   "cell_type": "code",
   "execution_count": 36,
   "metadata": {},
   "outputs": [],
   "source": [
    "data['топливо']=data['топливо'].apply(lambda x: x.lower())\n",
    "data['топливо']=data['топливо'].apply(lambda x: x.replace('бензин, газобаллонное оборудование','газ'))"
   ]
  },
  {
   "cell_type": "code",
   "execution_count": 37,
   "metadata": {},
   "outputs": [
    {
     "data": {
      "text/plain": [
       "Counter({'бензин': 44041,\n",
       "         'дизель': 9549,\n",
       "         'гибрид': 385,\n",
       "         'электро': 55,\n",
       "         'газ': 117})"
      ]
     },
     "execution_count": 37,
     "metadata": {},
     "output_type": "execute_result"
    }
   ],
   "source": [
    "Counter(data['топливо'])"
   ]
  },
  {
   "cell_type": "code",
   "execution_count": 38,
   "metadata": {},
   "outputs": [
    {
     "data": {
      "text/plain": [
       "Counter({'роботизированная': 6381,\n",
       "         'механическая': 10694,\n",
       "         'автоматическая': 30272,\n",
       "         'вариатор': 6800})"
      ]
     },
     "execution_count": 38,
     "metadata": {},
     "output_type": "execute_result"
    }
   ],
   "source": [
    "Counter(data['коробка'])"
   ]
  },
  {
   "cell_type": "code",
   "execution_count": 39,
   "metadata": {},
   "outputs": [
    {
     "data": {
      "text/plain": [
       "Counter({'передний': 23857, 'полный': 24845, 'задний': 5445})"
      ]
     },
     "execution_count": 39,
     "metadata": {},
     "output_type": "execute_result"
    }
   ],
   "source": [
    "Counter(data['привод'])"
   ]
  },
  {
   "cell_type": "code",
   "execution_count": 40,
   "metadata": {},
   "outputs": [
    {
     "data": {
      "text/plain": [
       "Counter({'Левый': 51955, 'Правый': 2192})"
      ]
     },
     "execution_count": 40,
     "metadata": {},
     "output_type": "execute_result"
    }
   ],
   "source": [
    "Counter(data['руль'])"
   ]
  },
  {
   "cell_type": "markdown",
   "metadata": {},
   "source": [
    "    итак, подчистили, укрупнили и оставили значимые категориальные признаки"
   ]
  },
  {
   "cell_type": "markdown",
   "metadata": {},
   "source": [
    "### ручная кластеризация"
   ]
  },
  {
   "cell_type": "code",
   "execution_count": 41,
   "metadata": {},
   "outputs": [],
   "source": [
    "# список дорогих брендов для примитивной классификации\n",
    "hi = ['MERCEDES', 'BMW', 'LEXUS','INFINITI']"
   ]
  },
  {
   "cell_type": "code",
   "execution_count": 42,
   "metadata": {},
   "outputs": [],
   "source": [
    "# введем дополнительный столбец обозначающий премиум сегмент\n",
    "data['классиф'] = data['бренд'].apply(\n",
    "    lambda x: 'дорогой сегмент' if x in hi else 'средний')"
   ]
  },
  {
   "cell_type": "markdown",
   "metadata": {},
   "source": [
    "### анализ численных переменных"
   ]
  },
  {
   "cell_type": "code",
   "execution_count": 43,
   "metadata": {},
   "outputs": [],
   "source": [
    "# заменим год выпуска на возраст авто\n",
    "data['возраст'] = data['год выпуска'].apply(lambda x: 2021-x)\n",
    "data = data.drop('год выпуска', axis=1).copy()"
   ]
  },
  {
   "cell_type": "code",
   "execution_count": 44,
   "metadata": {},
   "outputs": [
    {
     "data": {
      "text/plain": [
       "<AxesSubplot:xlabel='возраст', ylabel='Count'>"
      ]
     },
     "execution_count": 44,
     "metadata": {},
     "output_type": "execute_result"
    },
    {
     "data": {
      "image/png": "[encoded data removed]",
      "text/plain": [
       "<Figure size 432x288 with 1 Axes>"
      ]
     },
     "metadata": {
      "needs_background": "light"
     },
     "output_type": "display_data"
    }
   ],
   "source": [
    "sns.histplot(data['возраст'])"
   ]
  },
  {
   "cell_type": "code",
   "execution_count": 45,
   "metadata": {},
   "outputs": [
    {
     "name": "stderr",
     "output_type": "stream",
     "text": [
      "C:\\ProgramData\\Anaconda3\\lib\\site-packages\\seaborn\\_decorators.py:36: FutureWarning: Pass the following variable as a keyword arg: x. From version 0.12, the only valid positional argument will be `data`, and passing other arguments without an explicit keyword will result in an error or misinterpretation.\n",
      "  warnings.warn(\n"
     ]
    },
    {
     "data": {
      "text/plain": [
       "<AxesSubplot:xlabel='возраст'>"
      ]
     },
     "execution_count": 45,
     "metadata": {},
     "output_type": "execute_result"
    },
    {
     "data": {
      "image/png": "[encoded data removed]",
      "text/plain": [
       "<Figure size 432x288 with 1 Axes>"
      ]
     },
     "metadata": {
      "needs_background": "light"
     },
     "output_type": "display_data"
    }
   ],
   "source": [
    "sns.boxplot(data['возраст'])"
   ]
  },
  {
   "cell_type": "code",
   "execution_count": 46,
   "metadata": {},
   "outputs": [
    {
     "data": {
      "text/plain": [
       "<AxesSubplot:xlabel='пробег', ylabel='Count'>"
      ]
     },
     "execution_count": 46,
     "metadata": {},
     "output_type": "execute_result"
    },
    {
     "data": {
      "image/png": "[encoded data removed]",
      "text/plain": [
       "<Figure size 432x288 with 1 Axes>"
      ]
     },
     "metadata": {
      "needs_background": "light"
     },
     "output_type": "display_data"
    }
   ],
   "source": [
    "sns.histplot(data['пробег'])"
   ]
  },
  {
   "cell_type": "raw",
   "metadata": {},
   "source": [
    "# основная часть авто с пробегом до 600 тыс, сделаем замену\n",
    "data['пробег'] = data['пробег'].apply(lambda x: 600000 if x > 600000 else x)"
   ]
  },
  {
   "cell_type": "code",
   "execution_count": 47,
   "metadata": {},
   "outputs": [
    {
     "name": "stderr",
     "output_type": "stream",
     "text": [
      "C:\\ProgramData\\Anaconda3\\lib\\site-packages\\seaborn\\_decorators.py:36: FutureWarning: Pass the following variable as a keyword arg: x. From version 0.12, the only valid positional argument will be `data`, and passing other arguments without an explicit keyword will result in an error or misinterpretation.\n",
      "  warnings.warn(\n"
     ]
    },
    {
     "data": {
      "text/plain": [
       "<AxesSubplot:xlabel='пробег'>"
      ]
     },
     "execution_count": 47,
     "metadata": {},
     "output_type": "execute_result"
    },
    {
     "data": {
      "image/png": "[encoded data removed]",
      "text/plain": [
       "<Figure size 432x288 with 1 Axes>"
      ]
     },
     "metadata": {
      "needs_background": "light"
     },
     "output_type": "display_data"
    }
   ],
   "source": [
    "sns.boxplot(data['пробег'])"
   ]
  },
  {
   "cell_type": "code",
   "execution_count": 48,
   "metadata": {},
   "outputs": [
    {
     "data": {
      "text/plain": [
       "<AxesSubplot:xlabel='лс', ylabel='Count'>"
      ]
     },
     "execution_count": 48,
     "metadata": {},
     "output_type": "execute_result"
    },
    {
     "data": {
      "image/png": "[encoded data removed]",
      "text/plain": [
       "<Figure size 432x288 with 1 Axes>"
      ]
     },
     "metadata": {
      "needs_background": "light"
     },
     "output_type": "display_data"
    }
   ],
   "source": [
    "sns.histplot(data['лс'])"
   ]
  },
  {
   "cell_type": "code",
   "execution_count": 49,
   "metadata": {},
   "outputs": [
    {
     "data": {
      "text/plain": [
       "<AxesSubplot:xlabel='объем л', ylabel='Count'>"
      ]
     },
     "execution_count": 49,
     "metadata": {},
     "output_type": "execute_result"
    },
    {
     "data": {
      "image/png": "[encoded data removed]",
      "text/plain": [
       "<Figure size 432x288 with 1 Axes>"
      ]
     },
     "metadata": {
      "needs_background": "light"
     },
     "output_type": "display_data"
    }
   ],
   "source": [
    "sns.histplot(data['объем л'])"
   ]
  },
  {
   "cell_type": "code",
   "execution_count": 50,
   "metadata": {},
   "outputs": [],
   "source": [
    "# введем новый показатель пермножением литажа на мощность\n",
    "data['об*лс'] = data['объем л']*data['лс']"
   ]
  },
  {
   "cell_type": "code",
   "execution_count": 51,
   "metadata": {},
   "outputs": [
    {
     "data": {
      "text/plain": [
       "<AxesSubplot:xlabel='об*лс', ylabel='Count'>"
      ]
     },
     "execution_count": 51,
     "metadata": {},
     "output_type": "execute_result"
    },
    {
     "data": {
      "image/png": "[encoded data removed]",
      "text/plain": [
       "<Figure size 432x288 with 1 Axes>"
      ]
     },
     "metadata": {
      "needs_background": "light"
     },
     "output_type": "display_data"
    }
   ],
   "source": [
    "sns.histplot(data['об*лс'])"
   ]
  },
  {
   "cell_type": "code",
   "execution_count": 52,
   "metadata": {},
   "outputs": [
    {
     "data": {
      "text/plain": [
       "<AxesSubplot:xlabel='цена', ylabel='Count'>"
      ]
     },
     "execution_count": 52,
     "metadata": {},
     "output_type": "execute_result"
    },
    {
     "data": {
      "image/png": "[encoded data removed]",
      "text/plain": [
       "<Figure size 432x288 with 1 Axes>"
      ]
     },
     "metadata": {
      "needs_background": "light"
     },
     "output_type": "display_data"
    }
   ],
   "source": [
    "# рассмотрим цены\n",
    "sns.histplot(df_pars['цена'])"
   ]
  },
  {
   "cell_type": "code",
   "execution_count": 53,
   "metadata": {},
   "outputs": [
    {
     "data": {
      "text/plain": [
       "25000"
      ]
     },
     "execution_count": 53,
     "metadata": {},
     "output_type": "execute_result"
    }
   ],
   "source": [
    "df_pars['цена'].min()"
   ]
  },
  {
   "cell_type": "code",
   "execution_count": 54,
   "metadata": {},
   "outputs": [
    {
     "data": {
      "text/plain": [
       "27800000"
      ]
     },
     "execution_count": 54,
     "metadata": {},
     "output_type": "execute_result"
    }
   ],
   "source": [
    "df_pars['цена'].max()"
   ]
  },
  {
   "cell_type": "code",
   "execution_count": 55,
   "metadata": {},
   "outputs": [
    {
     "data": {
      "text/html": [
       "<div>\n",
       "<style scoped>\n",
       "    .dataframe tbody tr th:only-of-type {\n",
       "        vertical-align: middle;\n",
       "    }\n",
       "\n",
       "    .dataframe tbody tr th {\n",
       "        vertical-align: top;\n",
       "    }\n",
       "\n",
       "    .dataframe thead th {\n",
       "        text-align: right;\n",
       "    }\n",
       "</style>\n",
       "<table border=\"1\" class=\"dataframe\">\n",
       "  <thead>\n",
       "    <tr style=\"text-align: right;\">\n",
       "      <th></th>\n",
       "      <th>кузов</th>\n",
       "      <th>бренд</th>\n",
       "      <th>цвет</th>\n",
       "      <th>топливо</th>\n",
       "      <th>пробег</th>\n",
       "      <th>модель</th>\n",
       "      <th>коробка</th>\n",
       "      <th>ПТС</th>\n",
       "      <th>привод</th>\n",
       "      <th>руль</th>\n",
       "      <th>объем л</th>\n",
       "      <th>лс</th>\n",
       "      <th>цена</th>\n",
       "      <th>train</th>\n",
       "      <th>классиф</th>\n",
       "      <th>возраст</th>\n",
       "      <th>об*лс</th>\n",
       "    </tr>\n",
       "  </thead>\n",
       "  <tbody>\n",
       "    <tr>\n",
       "      <th>52685</th>\n",
       "      <td>минивэн</td>\n",
       "      <td>MERCEDES</td>\n",
       "      <td>чёрный</td>\n",
       "      <td>дизель</td>\n",
       "      <td>100</td>\n",
       "      <td>MERCEDES V</td>\n",
       "      <td>автоматическая</td>\n",
       "      <td>Оригинал</td>\n",
       "      <td>полный</td>\n",
       "      <td>Левый</td>\n",
       "      <td>2.1</td>\n",
       "      <td>190</td>\n",
       "      <td>27800000</td>\n",
       "      <td>1</td>\n",
       "      <td>дорогой сегмент</td>\n",
       "      <td>1</td>\n",
       "      <td>399.0</td>\n",
       "    </tr>\n",
       "  </tbody>\n",
       "</table>\n",
       "</div>"
      ],
      "text/plain": [
       "         кузов     бренд    цвет топливо  пробег      модель         коробка  \\\n",
       "52685  минивэн  MERCEDES  чёрный  дизель     100  MERCEDES V  автоматическая   \n",
       "\n",
       "            ПТС  привод   руль  объем л   лс      цена  train  \\\n",
       "52685  Оригинал  полный  Левый      2.1  190  27800000      1   \n",
       "\n",
       "               классиф  возраст  об*лс  \n",
       "52685  дорогой сегмент        1  399.0  "
      ]
     },
     "execution_count": 55,
     "metadata": {},
     "output_type": "execute_result"
    }
   ],
   "source": [
    "# проверим реальность не является ли это выбросом\n",
    "data[data['цена'] == data['цена'].max()]"
   ]
  },
  {
   "cell_type": "code",
   "execution_count": 56,
   "metadata": {},
   "outputs": [
    {
     "data": {
      "text/html": [
       "<div>\n",
       "<style scoped>\n",
       "    .dataframe tbody tr th:only-of-type {\n",
       "        vertical-align: middle;\n",
       "    }\n",
       "\n",
       "    .dataframe tbody tr th {\n",
       "        vertical-align: top;\n",
       "    }\n",
       "\n",
       "    .dataframe thead th {\n",
       "        text-align: right;\n",
       "    }\n",
       "</style>\n",
       "<table border=\"1\" class=\"dataframe\">\n",
       "  <thead>\n",
       "    <tr style=\"text-align: right;\">\n",
       "      <th></th>\n",
       "      <th>кузов</th>\n",
       "      <th>бренд</th>\n",
       "      <th>цвет</th>\n",
       "      <th>топливо</th>\n",
       "      <th>пробег</th>\n",
       "      <th>модель</th>\n",
       "      <th>год выпуска</th>\n",
       "      <th>sell_id</th>\n",
       "      <th>коробка</th>\n",
       "      <th>ПТС</th>\n",
       "      <th>привод</th>\n",
       "      <th>руль</th>\n",
       "      <th>состояние</th>\n",
       "      <th>таможня</th>\n",
       "      <th>объем л</th>\n",
       "      <th>лс</th>\n",
       "      <th>цена</th>\n",
       "      <th>train</th>\n",
       "    </tr>\n",
       "  </thead>\n",
       "  <tbody>\n",
       "    <tr>\n",
       "      <th>12294</th>\n",
       "      <td>универсал 5 дв.</td>\n",
       "      <td>NISSAN</td>\n",
       "      <td>белый</td>\n",
       "      <td>Бензин</td>\n",
       "      <td>350000</td>\n",
       "      <td>NISSAN PRIMERA</td>\n",
       "      <td>1991</td>\n",
       "      <td>0</td>\n",
       "      <td>механическая</td>\n",
       "      <td>Оригинал</td>\n",
       "      <td>передний</td>\n",
       "      <td>Левый</td>\n",
       "      <td>Не требует ремонта</td>\n",
       "      <td>Растаможен</td>\n",
       "      <td>2.0</td>\n",
       "      <td>115</td>\n",
       "      <td>25000</td>\n",
       "      <td>1</td>\n",
       "    </tr>\n",
       "    <tr>\n",
       "      <th>13618</th>\n",
       "      <td>хэтчбек 5 дв.</td>\n",
       "      <td>NISSAN</td>\n",
       "      <td>серый</td>\n",
       "      <td>Бензин</td>\n",
       "      <td>123456</td>\n",
       "      <td>NISSAN BLUEBIRD</td>\n",
       "      <td>1989</td>\n",
       "      <td>0</td>\n",
       "      <td>механическая</td>\n",
       "      <td>Дубликат</td>\n",
       "      <td>передний</td>\n",
       "      <td>Левый</td>\n",
       "      <td>Не требует ремонта</td>\n",
       "      <td>Растаможен</td>\n",
       "      <td>2.0</td>\n",
       "      <td>105</td>\n",
       "      <td>25000</td>\n",
       "      <td>1</td>\n",
       "    </tr>\n",
       "  </tbody>\n",
       "</table>\n",
       "</div>"
      ],
      "text/plain": [
       "                 кузов   бренд   цвет топливо  пробег           модель  \\\n",
       "12294  универсал 5 дв.  NISSAN  белый  Бензин  350000   NISSAN PRIMERA   \n",
       "13618    хэтчбек 5 дв.  NISSAN  серый  Бензин  123456  NISSAN BLUEBIRD   \n",
       "\n",
       "       год выпуска  sell_id       коробка       ПТС    привод   руль  \\\n",
       "12294         1991        0  механическая  Оригинал  передний  Левый   \n",
       "13618         1989        0  механическая  Дубликат  передний  Левый   \n",
       "\n",
       "                состояние     таможня  объем л   лс   цена  train  \n",
       "12294  Не требует ремонта  Растаможен      2.0  115  25000      1  \n",
       "13618  Не требует ремонта  Растаможен      2.0  105  25000      1  "
      ]
     },
     "execution_count": 56,
     "metadata": {},
     "output_type": "execute_result"
    }
   ],
   "source": [
    "df_pars[df_pars['цена'] == df_pars['цена'].min()]"
   ]
  },
  {
   "cell_type": "markdown",
   "metadata": {},
   "source": [
    "Данные в целом распределены почти нормально со смещением. \n",
    "Чтобы их сгладить используем логарифмирование.\n",
    "Цены разнятся очень сильно, но это не выбросы.\n",
    "Поэтому цены тоже логарифмируем."
   ]
  },
  {
   "cell_type": "code",
   "execution_count": 57,
   "metadata": {},
   "outputs": [],
   "source": [
    "# список колонок с количественными показателями\n",
    "col = ['пробег', 'объем л', 'лс', 'возраст', 'об*лс', 'цена']"
   ]
  },
  {
   "cell_type": "code",
   "execution_count": 58,
   "metadata": {},
   "outputs": [
    {
     "data": {
      "text/html": [
       "<div>\n",
       "<style scoped>\n",
       "    .dataframe tbody tr th:only-of-type {\n",
       "        vertical-align: middle;\n",
       "    }\n",
       "\n",
       "    .dataframe tbody tr th {\n",
       "        vertical-align: top;\n",
       "    }\n",
       "\n",
       "    .dataframe thead th {\n",
       "        text-align: right;\n",
       "    }\n",
       "</style>\n",
       "<table border=\"1\" class=\"dataframe\">\n",
       "  <thead>\n",
       "    <tr style=\"text-align: right;\">\n",
       "      <th></th>\n",
       "      <th>пробег</th>\n",
       "      <th>объем л</th>\n",
       "      <th>лс</th>\n",
       "      <th>возраст</th>\n",
       "      <th>об*лс</th>\n",
       "      <th>цена</th>\n",
       "    </tr>\n",
       "  </thead>\n",
       "  <tbody>\n",
       "    <tr>\n",
       "      <th>count</th>\n",
       "      <td>54147.000000</td>\n",
       "      <td>54147.000000</td>\n",
       "      <td>54147.000000</td>\n",
       "      <td>54147.000000</td>\n",
       "      <td>54147.000000</td>\n",
       "      <td>5.414700e+04</td>\n",
       "    </tr>\n",
       "    <tr>\n",
       "      <th>mean</th>\n",
       "      <td>151658.184849</td>\n",
       "      <td>2.374490</td>\n",
       "      <td>187.734094</td>\n",
       "      <td>10.716309</td>\n",
       "      <td>513.693773</td>\n",
       "      <td>5.801923e+05</td>\n",
       "    </tr>\n",
       "    <tr>\n",
       "      <th>std</th>\n",
       "      <td>97759.670235</td>\n",
       "      <td>0.934151</td>\n",
       "      <td>86.969232</td>\n",
       "      <td>6.892494</td>\n",
       "      <td>482.357658</td>\n",
       "      <td>1.241060e+06</td>\n",
       "    </tr>\n",
       "    <tr>\n",
       "      <th>min</th>\n",
       "      <td>1.000000</td>\n",
       "      <td>0.700000</td>\n",
       "      <td>30.000000</td>\n",
       "      <td>0.000000</td>\n",
       "      <td>33.000000</td>\n",
       "      <td>0.000000e+00</td>\n",
       "    </tr>\n",
       "    <tr>\n",
       "      <th>25%</th>\n",
       "      <td>82523.000000</td>\n",
       "      <td>1.800000</td>\n",
       "      <td>129.000000</td>\n",
       "      <td>6.000000</td>\n",
       "      <td>210.000000</td>\n",
       "      <td>0.000000e+00</td>\n",
       "    </tr>\n",
       "    <tr>\n",
       "      <th>50%</th>\n",
       "      <td>138377.000000</td>\n",
       "      <td>2.000000</td>\n",
       "      <td>170.000000</td>\n",
       "      <td>9.000000</td>\n",
       "      <td>360.000000</td>\n",
       "      <td>0.000000e+00</td>\n",
       "    </tr>\n",
       "    <tr>\n",
       "      <th>75%</th>\n",
       "      <td>200000.000000</td>\n",
       "      <td>3.000000</td>\n",
       "      <td>233.000000</td>\n",
       "      <td>14.000000</td>\n",
       "      <td>633.000000</td>\n",
       "      <td>7.490000e+05</td>\n",
       "    </tr>\n",
       "    <tr>\n",
       "      <th>max</th>\n",
       "      <td>1000000.000000</td>\n",
       "      <td>6.600000</td>\n",
       "      <td>639.000000</td>\n",
       "      <td>117.000000</td>\n",
       "      <td>4026.000000</td>\n",
       "      <td>2.780000e+07</td>\n",
       "    </tr>\n",
       "  </tbody>\n",
       "</table>\n",
       "</div>"
      ],
      "text/plain": [
       "               пробег       объем л            лс       возраст         об*лс  \\\n",
       "count    54147.000000  54147.000000  54147.000000  54147.000000  54147.000000   \n",
       "mean    151658.184849      2.374490    187.734094     10.716309    513.693773   \n",
       "std      97759.670235      0.934151     86.969232      6.892494    482.357658   \n",
       "min          1.000000      0.700000     30.000000      0.000000     33.000000   \n",
       "25%      82523.000000      1.800000    129.000000      6.000000    210.000000   \n",
       "50%     138377.000000      2.000000    170.000000      9.000000    360.000000   \n",
       "75%     200000.000000      3.000000    233.000000     14.000000    633.000000   \n",
       "max    1000000.000000      6.600000    639.000000    117.000000   4026.000000   \n",
       "\n",
       "               цена  \n",
       "count  5.414700e+04  \n",
       "mean   5.801923e+05  \n",
       "std    1.241060e+06  \n",
       "min    0.000000e+00  \n",
       "25%    0.000000e+00  \n",
       "50%    0.000000e+00  \n",
       "75%    7.490000e+05  \n",
       "max    2.780000e+07  "
      ]
     },
     "execution_count": 58,
     "metadata": {},
     "output_type": "execute_result"
    }
   ],
   "source": [
    "data[col].describe()"
   ]
  },
  {
   "cell_type": "code",
   "execution_count": 59,
   "metadata": {},
   "outputs": [
    {
     "data": {
      "text/html": [
       "<div>\n",
       "<style scoped>\n",
       "    .dataframe tbody tr th:only-of-type {\n",
       "        vertical-align: middle;\n",
       "    }\n",
       "\n",
       "    .dataframe tbody tr th {\n",
       "        vertical-align: top;\n",
       "    }\n",
       "\n",
       "    .dataframe thead th {\n",
       "        text-align: right;\n",
       "    }\n",
       "</style>\n",
       "<table border=\"1\" class=\"dataframe\">\n",
       "  <thead>\n",
       "    <tr style=\"text-align: right;\">\n",
       "      <th></th>\n",
       "      <th>пробег</th>\n",
       "      <th>объем л</th>\n",
       "      <th>лс</th>\n",
       "      <th>возраст</th>\n",
       "      <th>об*лс</th>\n",
       "      <th>цена</th>\n",
       "    </tr>\n",
       "  </thead>\n",
       "  <tbody>\n",
       "    <tr>\n",
       "      <th>пробег</th>\n",
       "      <td>1.000000</td>\n",
       "      <td>0.014186</td>\n",
       "      <td>-0.183599</td>\n",
       "      <td>0.697114</td>\n",
       "      <td>-0.098911</td>\n",
       "      <td>-0.294488</td>\n",
       "    </tr>\n",
       "    <tr>\n",
       "      <th>объем л</th>\n",
       "      <td>0.014186</td>\n",
       "      <td>1.000000</td>\n",
       "      <td>0.836045</td>\n",
       "      <td>0.005821</td>\n",
       "      <td>0.922009</td>\n",
       "      <td>0.157624</td>\n",
       "    </tr>\n",
       "    <tr>\n",
       "      <th>лс</th>\n",
       "      <td>-0.183599</td>\n",
       "      <td>0.836045</td>\n",
       "      <td>1.000000</td>\n",
       "      <td>-0.208465</td>\n",
       "      <td>0.942468</td>\n",
       "      <td>0.258652</td>\n",
       "    </tr>\n",
       "    <tr>\n",
       "      <th>возраст</th>\n",
       "      <td>0.697114</td>\n",
       "      <td>0.005821</td>\n",
       "      <td>-0.208465</td>\n",
       "      <td>1.000000</td>\n",
       "      <td>-0.101300</td>\n",
       "      <td>-0.340833</td>\n",
       "    </tr>\n",
       "    <tr>\n",
       "      <th>об*лс</th>\n",
       "      <td>-0.098911</td>\n",
       "      <td>0.922009</td>\n",
       "      <td>0.942468</td>\n",
       "      <td>-0.101300</td>\n",
       "      <td>1.000000</td>\n",
       "      <td>0.199780</td>\n",
       "    </tr>\n",
       "    <tr>\n",
       "      <th>цена</th>\n",
       "      <td>-0.294488</td>\n",
       "      <td>0.157624</td>\n",
       "      <td>0.258652</td>\n",
       "      <td>-0.340833</td>\n",
       "      <td>0.199780</td>\n",
       "      <td>1.000000</td>\n",
       "    </tr>\n",
       "  </tbody>\n",
       "</table>\n",
       "</div>"
      ],
      "text/plain": [
       "           пробег   объем л        лс   возраст     об*лс      цена\n",
       "пробег   1.000000  0.014186 -0.183599  0.697114 -0.098911 -0.294488\n",
       "объем л  0.014186  1.000000  0.836045  0.005821  0.922009  0.157624\n",
       "лс      -0.183599  0.836045  1.000000 -0.208465  0.942468  0.258652\n",
       "возраст  0.697114  0.005821 -0.208465  1.000000 -0.101300 -0.340833\n",
       "об*лс   -0.098911  0.922009  0.942468 -0.101300  1.000000  0.199780\n",
       "цена    -0.294488  0.157624  0.258652 -0.340833  0.199780  1.000000"
      ]
     },
     "execution_count": 59,
     "metadata": {},
     "output_type": "execute_result"
    }
   ],
   "source": [
    "data[col].corr()"
   ]
  },
  {
   "cell_type": "markdown",
   "metadata": {},
   "source": [
    "    Выводы: все играют важную роль в формировании цены. Есть зависимость между возрастом и пробегом, что понятно \n",
    "    и между объемом двигателя и мощностью, что тоже понятно. Но ни один из этих показателей убирать нельзя."
   ]
  },
  {
   "cell_type": "markdown",
   "metadata": {},
   "source": [
    "### значимость количественных признаков"
   ]
  },
  {
   "cell_type": "code",
   "execution_count": 60,
   "metadata": {},
   "outputs": [],
   "source": [
    "col1 = ['пробег', 'объем л', 'лс', 'возраст', 'об*лс']"
   ]
  },
  {
   "cell_type": "code",
   "execution_count": 61,
   "metadata": {},
   "outputs": [],
   "source": [
    "num = Series(f_regression(data[data['train'] == 1][col1],\n",
    "                          data[data['train'] == 1]['цена'])[0], index=col1)"
   ]
  },
  {
   "cell_type": "code",
   "execution_count": 62,
   "metadata": {},
   "outputs": [
    {
     "data": {
      "text/plain": [
       "<AxesSubplot:>"
      ]
     },
     "execution_count": 62,
     "metadata": {},
     "output_type": "execute_result"
    },
    {
     "data": {
      "image/png": "[encoded data removed]",
      "text/plain": [
       "<Figure size 432x288 with 1 Axes>"
      ]
     },
     "metadata": {
      "needs_background": "light"
     },
     "output_type": "display_data"
    }
   ],
   "source": [
    "num.sort_values(inplace=True)\n",
    "num.plot(kind='barh')"
   ]
  },
  {
   "cell_type": "code",
   "execution_count": 63,
   "metadata": {},
   "outputs": [
    {
     "data": {
      "text/html": [
       "<div>\n",
       "<style scoped>\n",
       "    .dataframe tbody tr th:only-of-type {\n",
       "        vertical-align: middle;\n",
       "    }\n",
       "\n",
       "    .dataframe tbody tr th {\n",
       "        vertical-align: top;\n",
       "    }\n",
       "\n",
       "    .dataframe thead th {\n",
       "        text-align: right;\n",
       "    }\n",
       "</style>\n",
       "<table border=\"1\" class=\"dataframe\">\n",
       "  <thead>\n",
       "    <tr style=\"text-align: right;\">\n",
       "      <th></th>\n",
       "      <th>кузов</th>\n",
       "      <th>бренд</th>\n",
       "      <th>цвет</th>\n",
       "      <th>топливо</th>\n",
       "      <th>пробег</th>\n",
       "      <th>модель</th>\n",
       "      <th>коробка</th>\n",
       "      <th>ПТС</th>\n",
       "      <th>привод</th>\n",
       "      <th>руль</th>\n",
       "      <th>объем л</th>\n",
       "      <th>лс</th>\n",
       "      <th>цена</th>\n",
       "      <th>train</th>\n",
       "      <th>классиф</th>\n",
       "      <th>возраст</th>\n",
       "      <th>об*лс</th>\n",
       "    </tr>\n",
       "  </thead>\n",
       "  <tbody>\n",
       "    <tr>\n",
       "      <th>0</th>\n",
       "      <td>лифтбек</td>\n",
       "      <td>SKODA</td>\n",
       "      <td>синий</td>\n",
       "      <td>бензин</td>\n",
       "      <td>74000</td>\n",
       "      <td>SKODA OCTAVIA</td>\n",
       "      <td>роботизированная</td>\n",
       "      <td>Оригинал</td>\n",
       "      <td>передний</td>\n",
       "      <td>Левый</td>\n",
       "      <td>1.2</td>\n",
       "      <td>105</td>\n",
       "      <td>0</td>\n",
       "      <td>0</td>\n",
       "      <td>средний</td>\n",
       "      <td>7</td>\n",
       "      <td>126.0</td>\n",
       "    </tr>\n",
       "    <tr>\n",
       "      <th>1</th>\n",
       "      <td>лифтбек</td>\n",
       "      <td>SKODA</td>\n",
       "      <td>чёрный</td>\n",
       "      <td>бензин</td>\n",
       "      <td>60563</td>\n",
       "      <td>SKODA OCTAVIA</td>\n",
       "      <td>механическая</td>\n",
       "      <td>Оригинал</td>\n",
       "      <td>передний</td>\n",
       "      <td>Левый</td>\n",
       "      <td>1.6</td>\n",
       "      <td>110</td>\n",
       "      <td>0</td>\n",
       "      <td>0</td>\n",
       "      <td>средний</td>\n",
       "      <td>4</td>\n",
       "      <td>176.0</td>\n",
       "    </tr>\n",
       "    <tr>\n",
       "      <th>2</th>\n",
       "      <td>лифтбек</td>\n",
       "      <td>SKODA</td>\n",
       "      <td>серый</td>\n",
       "      <td>бензин</td>\n",
       "      <td>88000</td>\n",
       "      <td>SKODA SUPERB</td>\n",
       "      <td>роботизированная</td>\n",
       "      <td>Оригинал</td>\n",
       "      <td>передний</td>\n",
       "      <td>Левый</td>\n",
       "      <td>1.8</td>\n",
       "      <td>152</td>\n",
       "      <td>0</td>\n",
       "      <td>0</td>\n",
       "      <td>средний</td>\n",
       "      <td>7</td>\n",
       "      <td>273.6</td>\n",
       "    </tr>\n",
       "    <tr>\n",
       "      <th>3</th>\n",
       "      <td>лифтбек</td>\n",
       "      <td>SKODA</td>\n",
       "      <td>коричневый</td>\n",
       "      <td>бензин</td>\n",
       "      <td>95000</td>\n",
       "      <td>SKODA OCTAVIA</td>\n",
       "      <td>автоматическая</td>\n",
       "      <td>Оригинал</td>\n",
       "      <td>передний</td>\n",
       "      <td>Левый</td>\n",
       "      <td>1.6</td>\n",
       "      <td>110</td>\n",
       "      <td>0</td>\n",
       "      <td>0</td>\n",
       "      <td>средний</td>\n",
       "      <td>7</td>\n",
       "      <td>176.0</td>\n",
       "    </tr>\n",
       "    <tr>\n",
       "      <th>4</th>\n",
       "      <td>лифтбек</td>\n",
       "      <td>SKODA</td>\n",
       "      <td>белый</td>\n",
       "      <td>бензин</td>\n",
       "      <td>58536</td>\n",
       "      <td>SKODA OCTAVIA</td>\n",
       "      <td>автоматическая</td>\n",
       "      <td>Оригинал</td>\n",
       "      <td>передний</td>\n",
       "      <td>Левый</td>\n",
       "      <td>1.8</td>\n",
       "      <td>152</td>\n",
       "      <td>0</td>\n",
       "      <td>0</td>\n",
       "      <td>средний</td>\n",
       "      <td>9</td>\n",
       "      <td>273.6</td>\n",
       "    </tr>\n",
       "  </tbody>\n",
       "</table>\n",
       "</div>"
      ],
      "text/plain": [
       "     кузов  бренд        цвет топливо  пробег         модель  \\\n",
       "0  лифтбек  SKODA       синий  бензин   74000  SKODA OCTAVIA   \n",
       "1  лифтбек  SKODA      чёрный  бензин   60563  SKODA OCTAVIA   \n",
       "2  лифтбек  SKODA       серый  бензин   88000   SKODA SUPERB   \n",
       "3  лифтбек  SKODA  коричневый  бензин   95000  SKODA OCTAVIA   \n",
       "4  лифтбек  SKODA       белый  бензин   58536  SKODA OCTAVIA   \n",
       "\n",
       "            коробка       ПТС    привод   руль  объем л   лс  цена  train  \\\n",
       "0  роботизированная  Оригинал  передний  Левый      1.2  105     0      0   \n",
       "1      механическая  Оригинал  передний  Левый      1.6  110     0      0   \n",
       "2  роботизированная  Оригинал  передний  Левый      1.8  152     0      0   \n",
       "3    автоматическая  Оригинал  передний  Левый      1.6  110     0      0   \n",
       "4    автоматическая  Оригинал  передний  Левый      1.8  152     0      0   \n",
       "\n",
       "   классиф  возраст  об*лс  \n",
       "0  средний        7  126.0  \n",
       "1  средний        4  176.0  \n",
       "2  средний        7  273.6  \n",
       "3  средний        7  176.0  \n",
       "4  средний        9  273.6  "
      ]
     },
     "execution_count": 63,
     "metadata": {},
     "output_type": "execute_result"
    }
   ],
   "source": [
    "data.head()"
   ]
  },
  {
   "cell_type": "markdown",
   "metadata": {},
   "source": [
    "### нормализация данных и разбивка данных"
   ]
  },
  {
   "cell_type": "code",
   "execution_count": 64,
   "metadata": {},
   "outputs": [],
   "source": [
    "data1 = data.copy()"
   ]
  },
  {
   "cell_type": "code",
   "execution_count": 65,
   "metadata": {},
   "outputs": [],
   "source": [
    "# преобразуем числовые переменные через логарифмирование\n",
    "for i in col[:-1]:\n",
    "    data1[i] = np.log(data1[i] + 1)"
   ]
  },
  {
   "cell_type": "code",
   "execution_count": 66,
   "metadata": {},
   "outputs": [
    {
     "data": {
      "text/plain": [
       "array(['кузов', 'бренд', 'цвет', 'топливо', 'пробег', 'модель', 'коробка',\n",
       "       'ПТС', 'привод', 'руль', 'объем л', 'лс', 'цена', 'train',\n",
       "       'классиф', 'возраст', 'об*лс'], dtype=object)"
      ]
     },
     "execution_count": 66,
     "metadata": {},
     "output_type": "execute_result"
    }
   ],
   "source": [
    "data.columns.values"
   ]
  },
  {
   "cell_type": "code",
   "execution_count": 67,
   "metadata": {},
   "outputs": [],
   "source": [
    "# разбивка категориальных признаков\n",
    "data1=pd.get_dummies(data1, columns=['кузов'])\n",
    "data1=pd.get_dummies(data1, columns=['бренд'])\n",
    "data1=pd.get_dummies(data1, columns=['цвет'])\n",
    "data1=pd.get_dummies(data1, columns=['топливо'])\n",
    "data1=pd.get_dummies(data1, columns=['коробка'])\n",
    "data1=pd.get_dummies(data1, columns=['ПТС'])\n",
    "data1=pd.get_dummies(data1, columns=['привод'])\n",
    "data1=pd.get_dummies(data1, columns=['руль'])\n",
    "data1=pd.get_dummies(data1, columns=['модель'])\n",
    "data1=pd.get_dummies(data1, columns=['классиф'])"
   ]
  },
  {
   "cell_type": "code",
   "execution_count": 68,
   "metadata": {},
   "outputs": [],
   "source": [
    "# для кагла данные для subm\n",
    "data_test = data1[data1['train'] == 0]\n",
    "X_sub = data_test.drop('цена', axis=1)"
   ]
  },
  {
   "cell_type": "code",
   "execution_count": 69,
   "metadata": {},
   "outputs": [
    {
     "data": {
      "text/plain": [
       "(34686, 572)"
      ]
     },
     "execution_count": 69,
     "metadata": {},
     "output_type": "execute_result"
    }
   ],
   "source": [
    "X_sub.shape"
   ]
  },
  {
   "cell_type": "code",
   "execution_count": 70,
   "metadata": {},
   "outputs": [],
   "source": [
    "data_mod = data1[data1['train'] == 1]"
   ]
  },
  {
   "cell_type": "code",
   "execution_count": 71,
   "metadata": {},
   "outputs": [],
   "source": [
    "Y = data_mod['цена']\n",
    "X = data_mod.drop('цена', axis=1)"
   ]
  },
  {
   "cell_type": "code",
   "execution_count": 72,
   "metadata": {},
   "outputs": [],
   "source": [
    "X_train, X_test, y_train, y_test = train_test_split(\n",
    "    X, Y, test_size=0.20, random_state=42)"
   ]
  },
  {
   "cell_type": "code",
   "execution_count": 73,
   "metadata": {},
   "outputs": [],
   "source": [
    "RANDOM_SEED = 42"
   ]
  },
  {
   "cell_type": "markdown",
   "metadata": {},
   "source": [
    "## модели регрессии"
   ]
  },
  {
   "cell_type": "code",
   "execution_count": 74,
   "metadata": {},
   "outputs": [],
   "source": [
    "# функция подсчета метрики MAPE\n",
    "def mape(y_true, y_pred):\n",
    "    y_true, y_pred = np.array(y_true), np.array(y_pred)\n",
    "    return np.mean(np.abs((y_true - y_pred) / y_true)) * 100"
   ]
  },
  {
   "cell_type": "markdown",
   "metadata": {},
   "source": [
    "### 1. модель будстрапа"
   ]
  },
  {
   "cell_type": "code",
   "execution_count": 75,
   "metadata": {},
   "outputs": [
    {
     "data": {
      "text/plain": [
       "<catboost.core.CatBoostRegressor at 0x1e1f5501cd0>"
      ]
     },
     "execution_count": 75,
     "metadata": {},
     "output_type": "execute_result"
    }
   ],
   "source": [
    "model = CatBoostRegressor(iterations = 5000,\n",
    "                          random_seed = RANDOM_SEED,\n",
    "                          eval_metric='MAPE',\n",
    "                          custom_metric=['R2', 'MAE'],\n",
    "                          silent=True,\n",
    "                         )\n",
    "model.fit(X_train, y_train,\n",
    "         #cat_features=cat_features_ids,\n",
    "         eval_set=(X_test, y_test),\n",
    "         verbose_eval=0,\n",
    "         use_best_model=True,\n",
    "         #plot=True\n",
    "         )"
   ]
  },
  {
   "cell_type": "code",
   "execution_count": 76,
   "metadata": {},
   "outputs": [],
   "source": [
    "predict_test = model.predict(X_test)"
   ]
  },
  {
   "cell_type": "code",
   "execution_count": 77,
   "metadata": {},
   "outputs": [
    {
     "name": "stdout",
     "output_type": "stream",
     "text": [
      "MAPE 12.53\n"
     ]
    }
   ],
   "source": [
    "print('MAPE', round(mape(y_test, predict_test), 2))"
   ]
  },
  {
   "cell_type": "raw",
   "metadata": {},
   "source": [
    "MAPE 12.53"
   ]
  },
  {
   "cell_type": "markdown",
   "metadata": {},
   "source": [
    "### 2. модель случайного леса"
   ]
  },
  {
   "cell_type": "code",
   "execution_count": 78,
   "metadata": {},
   "outputs": [],
   "source": [
    "random_grid = {'n_estimators': [int(x) for x in np.linspace(start=100, stop=400, num=4)],\n",
    "               'max_features': ['auto', 'sqrt'],\n",
    "               'max_depth': [int(x) for x in np.linspace(5, 15, num=6)] + [None],\n",
    "               'min_samples_split': [2, 5, 10],\n",
    "               'min_samples_leaf': [1, 2, 4],\n",
    "               'bootstrap': [True, False]}"
   ]
  },
  {
   "cell_type": "raw",
   "metadata": {},
   "source": [
    "# подбор лучших параметров\n",
    "rfr = RandomForestRegressor(random_state = 42)\n",
    "rf_random = RandomizedSearchCV(estimator = rfr, param_distributions = random_grid, n_iter = 100, cv = 3, verbose=10, random_state=RANDOM_SEED, n_jobs = -1)\n",
    "rf_random.fit(X_train, np.log(y_train))\n",
    "rf_random.best_params_"
   ]
  },
  {
   "cell_type": "raw",
   "metadata": {},
   "source": [
    "# лучшие параметры\n",
    "{'n_estimators': 200,\n",
    " 'min_samples_split': 5,\n",
    " 'min_samples_leaf': 1,\n",
    " 'max_features': 'auto',\n",
    " 'max_depth': 15,\n",
    " 'bootstrap': True}"
   ]
  },
  {
   "cell_type": "code",
   "execution_count": 79,
   "metadata": {},
   "outputs": [
    {
     "data": {
      "text/plain": [
       "RandomForestRegressor(max_depth=15, min_samples_split=5, n_estimators=200,\n",
       "                      random_state=42)"
      ]
     },
     "execution_count": 79,
     "metadata": {},
     "output_type": "execute_result"
    }
   ],
   "source": [
    "best_rfr = RandomForestRegressor(random_state=RANDOM_SEED, n_estimators=200, min_samples_split=5,\n",
    "                                 min_samples_leaf=1, max_features='auto', max_depth=15, bootstrap=True)\n",
    "best_rfr.fit(X_train, np.log(y_train))"
   ]
  },
  {
   "cell_type": "code",
   "execution_count": 80,
   "metadata": {},
   "outputs": [],
   "source": [
    "predict_rfr = np.exp(best_rfr.predict(X_test))"
   ]
  },
  {
   "cell_type": "code",
   "execution_count": 81,
   "metadata": {},
   "outputs": [
    {
     "name": "stdout",
     "output_type": "stream",
     "text": [
      "MAPE 12.33\n"
     ]
    }
   ],
   "source": [
    "print('MAPE', round(mape(y_test, predict_rfr), 2))"
   ]
  },
  {
   "cell_type": "raw",
   "metadata": {},
   "source": [
    "MAPE 12.33"
   ]
  },
  {
   "cell_type": "markdown",
   "metadata": {},
   "source": [
    "### 3. модель градиентного бустинга"
   ]
  },
  {
   "cell_type": "code",
   "execution_count": 82,
   "metadata": {},
   "outputs": [],
   "source": [
    "random_grid = {'n_estimators': [int(x) for x in np.linspace(start=100, stop=400, num=8)],\n",
    "               'max_features': ['auto', 'sqrt', 'log2'],\n",
    "               'max_depth': [int(x) for x in np.linspace(5, 15, num=6)] + [None],\n",
    "               'min_samples_split': [2, 5, 10],\n",
    "               'min_samples_leaf': [1, 2, 4]}"
   ]
  },
  {
   "cell_type": "raw",
   "metadata": {},
   "source": [
    "# поиск лучших параметров\n",
    "gbr = GradientBoostingRegressor()\n",
    "gbr_random = RandomizedSearchCV(estimator = gbr, param_distributions = random_grid, n_iter = 100, cv = 3, verbose=10, random_state=42, n_jobs = -1)\n",
    "gbr_random.fit(X_train, np.log(y_train))\n",
    "gbr_random.best_params_"
   ]
  },
  {
   "cell_type": "raw",
   "metadata": {},
   "source": [
    "# лучшие параметры\n",
    "{'n_estimators': 400,\n",
    " 'min_samples_split': 2,\n",
    " 'min_samples_leaf': 4,\n",
    " 'max_features': 'auto',\n",
    " 'max_depth': 7}"
   ]
  },
  {
   "cell_type": "code",
   "execution_count": 83,
   "metadata": {},
   "outputs": [],
   "source": [
    "best_gbr = GradientBoostingRegressor(random_state=RANDOM_SEED, n_estimators=400,\n",
    "                                     min_samples_split=2, min_samples_leaf=4, max_features='auto', max_depth=7)"
   ]
  },
  {
   "cell_type": "code",
   "execution_count": 84,
   "metadata": {},
   "outputs": [],
   "source": [
    "best_gbr.fit(X_train, np.log(y_train))\n",
    "predict_gbr = np.exp(best_gbr.predict(X_test))"
   ]
  },
  {
   "cell_type": "code",
   "execution_count": 85,
   "metadata": {},
   "outputs": [
    {
     "name": "stdout",
     "output_type": "stream",
     "text": [
      "MAPE 11.61\n"
     ]
    }
   ],
   "source": [
    "print('MAPE', round(mape(y_test, predict_gbr), 2))"
   ]
  },
  {
   "cell_type": "raw",
   "metadata": {},
   "source": [
    "MAPE 11.61 - это самый лучший результат из моделей"
   ]
  },
  {
   "cell_type": "markdown",
   "metadata": {},
   "source": [
    "### 4. модель бэггинг со случайным лесом"
   ]
  },
  {
   "cell_type": "code",
   "execution_count": 86,
   "metadata": {},
   "outputs": [],
   "source": [
    "bagg_rfr = BaggingRegressor(best_rfr, n_estimators=3, n_jobs=1, random_state=RANDOM_SEED)"
   ]
  },
  {
   "cell_type": "code",
   "execution_count": 87,
   "metadata": {},
   "outputs": [],
   "source": [
    "bagg_rfr.fit(X_train, np.log(y_train))\n",
    "predict_bagg_rfr = np.exp(bagg_rfr.predict(X_test))"
   ]
  },
  {
   "cell_type": "code",
   "execution_count": 88,
   "metadata": {},
   "outputs": [
    {
     "name": "stdout",
     "output_type": "stream",
     "text": [
      "MAPE 12.66\n"
     ]
    }
   ],
   "source": [
    "print('MAPE', round(mape(y_test, predict_bagg_rfr), 2))"
   ]
  },
  {
   "cell_type": "raw",
   "metadata": {},
   "source": [
    "MAPE 12.66"
   ]
  },
  {
   "cell_type": "markdown",
   "metadata": {},
   "source": [
    "### 5. модель бэггинг с градиентным бустингом"
   ]
  },
  {
   "cell_type": "code",
   "execution_count": 89,
   "metadata": {},
   "outputs": [],
   "source": [
    "bagg_gbr = BaggingRegressor(\n",
    "    best_gbr, n_estimators=3, n_jobs=1, random_state=RANDOM_SEED)"
   ]
  },
  {
   "cell_type": "code",
   "execution_count": 90,
   "metadata": {},
   "outputs": [
    {
     "data": {
      "text/plain": [
       "<bound method BaseEstimator.get_params of BaggingRegressor(base_estimator=GradientBoostingRegressor(max_depth=7,\n",
       "                                                          max_features='auto',\n",
       "                                                          min_samples_leaf=4,\n",
       "                                                          n_estimators=400,\n",
       "                                                          random_state=42),\n",
       "                 n_estimators=3, n_jobs=1, random_state=42)>"
      ]
     },
     "execution_count": 90,
     "metadata": {},
     "output_type": "execute_result"
    }
   ],
   "source": [
    "bagg_gbr.get_params"
   ]
  },
  {
   "cell_type": "code",
   "execution_count": 91,
   "metadata": {},
   "outputs": [],
   "source": [
    "bagg_gbr.fit(X_train, np.log(y_train))\n",
    "predict_bagg_gbr = np.exp(bagg_gbr.predict(X_test))"
   ]
  },
  {
   "cell_type": "code",
   "execution_count": 92,
   "metadata": {},
   "outputs": [
    {
     "name": "stdout",
     "output_type": "stream",
     "text": [
      "MAPE 11.68\n"
     ]
    }
   ],
   "source": [
    "print('MAPE', round(mape(y_test, predict_bagg_gbr), 2))"
   ]
  },
  {
   "cell_type": "raw",
   "metadata": {},
   "source": [
    "MAPE 11.68"
   ]
  },
  {
   "cell_type": "markdown",
   "metadata": {},
   "source": [
    "### 6. метод стэкинг"
   ]
  },
  {
   "cell_type": "code",
   "execution_count": 110,
   "metadata": {},
   "outputs": [],
   "source": [
    "estimators = [('GB', best_gbr),('RF',best_rfr)]"
   ]
  },
  {
   "cell_type": "code",
   "execution_count": 111,
   "metadata": {},
   "outputs": [],
   "source": [
    "st_ensemble=StackingRegressor(estimators = estimators, \n",
    "                              final_estimator = model)\n",
    "st_ensemble.fit(X_train, np.log(y_train))\n",
    "predict_ensemble=np.exp(st_ensemble.predict(X_test))"
   ]
  },
  {
   "cell_type": "code",
   "execution_count": 112,
   "metadata": {},
   "outputs": [
    {
     "name": "stdout",
     "output_type": "stream",
     "text": [
      "MAPE 11.82\n"
     ]
    }
   ],
   "source": [
    "print('MAPE', round(mape(y_test, predict_ensemble), 2))"
   ]
  },
  {
   "cell_type": "raw",
   "metadata": {},
   "source": [
    "MAPE 11.82"
   ]
  },
  {
   "cell_type": "markdown",
   "metadata": {},
   "source": [
    "### submiting"
   ]
  },
  {
   "cell_type": "code",
   "execution_count": 96,
   "metadata": {},
   "outputs": [],
   "source": [
    "sample_submission = pd.read_csv('sub.csv')"
   ]
  },
  {
   "cell_type": "raw",
   "metadata": {},
   "source": [
    "# самый лучший результат\n",
    "predict_submission2 = np.exp(bagg_gbr.predict(X_sub))"
   ]
  },
  {
   "cell_type": "code",
   "execution_count": 100,
   "metadata": {},
   "outputs": [],
   "source": [
    "# самый лучший результат на kaggle - 15.16129\n",
    "predict_submission2 = np.exp(best_gbr.predict(X_sub))"
   ]
  },
  {
   "cell_type": "raw",
   "metadata": {},
   "source": [
    "predict_submission2 = np.exp(st_ensemble.predict(X_sub))"
   ]
  },
  {
   "cell_type": "code",
   "execution_count": 107,
   "metadata": {},
   "outputs": [],
   "source": [
    "# корректировка на инфляцию\n",
    "# мы получили прогноз на сегодня, а тестовая база создана в 2020\n",
    "# анализ обзоров авторынка позволяет сделать оценку роста цен на 10%\n",
    "# с учетом дефицита в салонах некоторых марок новых авто беру оценку 12%\n",
    "predict_submission = predict_submission2/1.12"
   ]
  },
  {
   "cell_type": "code",
   "execution_count": 108,
   "metadata": {},
   "outputs": [
    {
     "data": {
      "text/html": [
       "<div>\n",
       "<style scoped>\n",
       "    .dataframe tbody tr th:only-of-type {\n",
       "        vertical-align: middle;\n",
       "    }\n",
       "\n",
       "    .dataframe tbody tr th {\n",
       "        vertical-align: top;\n",
       "    }\n",
       "\n",
       "    .dataframe thead th {\n",
       "        text-align: right;\n",
       "    }\n",
       "</style>\n",
       "<table border=\"1\" class=\"dataframe\">\n",
       "  <thead>\n",
       "    <tr style=\"text-align: right;\">\n",
       "      <th></th>\n",
       "      <th>sell_id</th>\n",
       "      <th>price</th>\n",
       "    </tr>\n",
       "  </thead>\n",
       "  <tbody>\n",
       "    <tr>\n",
       "      <th>0</th>\n",
       "      <td>1100575026</td>\n",
       "      <td>678345.404124</td>\n",
       "    </tr>\n",
       "    <tr>\n",
       "      <th>1</th>\n",
       "      <td>1100549428</td>\n",
       "      <td>933250.509994</td>\n",
       "    </tr>\n",
       "    <tr>\n",
       "      <th>2</th>\n",
       "      <td>1100658222</td>\n",
       "      <td>848260.709052</td>\n",
       "    </tr>\n",
       "    <tr>\n",
       "      <th>3</th>\n",
       "      <td>1100937408</td>\n",
       "      <td>691947.887035</td>\n",
       "    </tr>\n",
       "    <tr>\n",
       "      <th>4</th>\n",
       "      <td>1101037972</td>\n",
       "      <td>671703.874739</td>\n",
       "    </tr>\n",
       "  </tbody>\n",
       "</table>\n",
       "</div>"
      ],
      "text/plain": [
       "      sell_id          price\n",
       "0  1100575026  678345.404124\n",
       "1  1100549428  933250.509994\n",
       "2  1100658222  848260.709052\n",
       "3  1100937408  691947.887035\n",
       "4  1101037972  671703.874739"
      ]
     },
     "execution_count": 108,
     "metadata": {},
     "output_type": "execute_result"
    }
   ],
   "source": [
    "sample_submission['price'] = predict_submission\n",
    "sample_submission.to_csv('submit.csv', index=False)\n",
    "sample_submission.head(5)"
   ]
  },
  {
   "cell_type": "code",
   "execution_count": null,
   "metadata": {},
   "outputs": [],
   "source": []
  }
 ],
 "metadata": {
  "kernelspec": {
   "display_name": "Python 3",
   "language": "python",
   "name": "python3"
  },
  "language_info": {
   "codemirror_mode": {
    "name": "ipython",
    "version": 3
   },
   "file_extension": ".py",
   "mimetype": "text/x-python",
   "name": "python",
   "nbconvert_exporter": "python",
   "pygments_lexer": "ipython3",
   "version": "3.8.5"
  }
 },
 "nbformat": 4,
 "nbformat_minor": 4
}
